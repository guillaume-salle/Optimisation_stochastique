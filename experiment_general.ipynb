{
 "cells": [
  {
   "cell_type": "code",
   "execution_count": null,
   "metadata": {},
   "outputs": [],
   "source": [
    "import torch\n",
    "import torch.nn as nn\n",
    "import torch.optim as optim\n",
    "from torch.utils.data import DataLoader, TensorDataset\n",
    "import matplotlib.pyplot as plt\n",
    "from tqdm import tqdm"
   ]
  },
  {
   "cell_type": "code",
   "execution_count": null,
   "metadata": {},
   "outputs": [],
   "source": [
    "class Experiment:\n",
    "    \"\"\"\n",
    "    Experiment class for training a model on a dataset using a given optimizer\n",
    "    \"\"\"\n",
    "\n",
    "    def __init__(\n",
    "        self,\n",
    "        model,\n",
    "        dataset,\n",
    "        optimizer_class,\n",
    "        lr,\n",
    "        criterion,\n",
    "        true_params=None,\n",
    "        batch_size=1,\n",
    "    ):\n",
    "        \"\"\"\n",
    "        Parameters:\n",
    "        model: PyTorch model\n",
    "        dataset: PyTorch dataset\n",
    "        optimizer_class: PyTorch optimizer class\n",
    "        lr: Learning rate\n",
    "        criterion: Loss function\n",
    "        true_params: True parameters of the model (optional), used to compute the parameter estimation error\n",
    "        batch_size: Batch size for training, default is 1 for online learning\n",
    "        \"\"\"\n",
    "        self.model = model\n",
    "        self.dataset = dataset\n",
    "        self.batch_size = batch_size\n",
    "        self.dataloader = DataLoader(dataset, batch_size=batch_size, shuffle=False)\n",
    "        self.optimizer = optimizer_class(model.parameters(), lr=lr)\n",
    "        self.true_params = true_params\n",
    "        self.param_errors = []\n",
    "        self.criterion = criterion\n",
    "\n",
    "    def param_error(self):\n",
    "        \"\"\"\n",
    "        Compute the squared error between the estimated parameters and the true parameters\n",
    "        \"\"\"\n",
    "        if self.true_params is None:\n",
    "            raise ValueError(\"True parameters not provided\")\n",
    "        estimated_params = torch.cat([p.view(-1) for p in self.model.parameters()])\n",
    "        true_params = torch.cat([p.view(-1) for p in self.true_params])\n",
    "        error = estimated_params - true_params\n",
    "        return torch.dot(error, error).item()\n",
    "\n",
    "    def compute_hessian(self, x, y):\n",
    "        \"\"\"\n",
    "        Compute the Hessian of the loss function with respect to the model parameters\n",
    "        \"\"\"\n",
    "        self.model.eval()\n",
    "        self.model.zero_grad()\n",
    "\n",
    "        x = x.view(1, -1)  # Reshape input to 2D tensor, if model expects bathch input\n",
    "        y_pred = self.model(x)\n",
    "        loss = self.criterion(y_pred, y.view(-1, 1))\n",
    "        hessian = torch.autograd.functional.hessian(loss, self.model.parameters())\n",
    "        return hessian\n",
    "\n",
    "    def run(self):\n",
    "        self.model.train()\n",
    "        for x, y in tqdm(self.dataloader):\n",
    "            y_pred = self.model(x)\n",
    "            loss = self.criterion(y_pred, y.view(-1, 1))\n",
    "            self.optimizer.zero_grad()\n",
    "            loss.backward()\n",
    "            self.optimizer.step()\n",
    "\n",
    "            # Log parameter error after each update\n",
    "            self.param_errors.append(self.param_error())\n",
    "        self.plot_param_errors()\n",
    "\n",
    "    def plot_param_errors(self):\n",
    "        plt.plot(self.param_errors, label=\"Parameter Estimation Error\")\n",
    "        plt.xlabel(\"Sample size\")\n",
    "        plt.ylabel(\"Error\")\n",
    "        plt.legend()\n",
    "        plt.show()"
   ]
  },
  {
   "cell_type": "code",
   "execution_count": null,
   "metadata": {},
   "outputs": [],
   "source": [
    "# Usage example\n",
    "true_params = torch.tensor([1.5, -2.0, 1.0, 0.5, 3.0])\n",
    "X = torch.randn(10000, 5)\n",
    "noise = 0.5 * torch.randn(10000)\n",
    "y = X @ true_params + noise\n",
    "dataset = TensorDataset(X, y)\n",
    "model = nn.Linear(5, 1, bias=False)\n",
    "criterion = nn.MSELoss()\n",
    "experiment = Experiment(\n",
    "    model, dataset, optim.SGD, lr=0.001, true_params=true_params, criterion=criterion\n",
    ")"
   ]
  },
  {
   "cell_type": "code",
   "execution_count": null,
   "metadata": {},
   "outputs": [],
   "source": [
    "experiment.run()"
   ]
  },
  {
   "cell_type": "code",
   "execution_count": null,
   "metadata": {},
   "outputs": [],
   "source": [
    "import torch\n",
    "from torch import nn\n",
    "from torch.autograd import functional as autograd_f\n",
    "\n",
    "\n",
    "class NewtonOptim(torch.optim.Optimizer):\n",
    "    def __init__(self, params, lr=1):\n",
    "        defaults = dict(lr=lr)\n",
    "        super().__init__(params, defaults)\n",
    "\n",
    "    def step(self, closure=None):\n",
    "        loss = closure()\n",
    "        for group in self.param_groups:\n",
    "            for p in group[\"params\"]:\n",
    "                if p.grad is None:\n",
    "                    continue\n",
    "\n",
    "                def func(input):\n",
    "                    return closure()\n",
    "\n",
    "                hessian = autograd_f.hessian(func, p)\n",
    "\n",
    "                hessian_inv = torch.inverse(hessian + 1e-5 * torch.eye(hessian.size(0)))\n",
    "\n",
    "                p.data.sub_(group[\"lr\"] * hessian_inv @ p.grad.data.flatten()).view_as(\n",
    "                    p\n",
    "                )\n",
    "\n",
    "        return loss"
   ]
  },
  {
   "cell_type": "code",
   "execution_count": null,
   "metadata": {},
   "outputs": [],
   "source": [
    "# Usage example\n",
    "true_params = torch.tensor([1.5, -2.0, 1.0, 0.5, 3.0])\n",
    "X = torch.randn(10000, 5)\n",
    "noise = 0.5 * torch.randn(10000)\n",
    "y = X @ true_params + noise\n",
    "dataset = TensorDataset(X, y)\n",
    "model = nn.Linear(5, 1, bias=False)\n",
    "criterion = nn.MSELoss()\n",
    "experiment = Experiment(\n",
    "    model, dataset, NewtonOptim, lr=0.001, true_params=true_params, criterion=criterion\n",
    ")"
   ]
  },
  {
   "cell_type": "code",
   "execution_count": null,
   "metadata": {},
   "outputs": [],
   "source": [
    "def closure():\n",
    "    y_pred = model(X)\n",
    "    loss = criterion(y_pred, y.view(-1, 1))\n",
    "    return loss"
   ]
  },
  {
   "cell_type": "code",
   "execution_count": null,
   "metadata": {},
   "outputs": [],
   "source": [
    "for x, y in experiment.dataloader:\n",
    "    experiment.optimizer.step(closure)"
   ]
  },
  {
   "cell_type": "code",
   "execution_count": null,
   "metadata": {},
   "outputs": [],
   "source": [
    "experiment.plot_param_errors()"
   ]
  },
  {
   "cell_type": "code",
   "execution_count": null,
   "metadata": {},
   "outputs": [],
   "source": []
  }
 ],
 "metadata": {
  "kernelspec": {
   "display_name": "env",
   "language": "python",
   "name": "python3"
  },
  "language_info": {
   "codemirror_mode": {
    "name": "ipython",
    "version": 3
   },
   "file_extension": ".py",
   "mimetype": "text/x-python",
   "name": "python",
   "nbconvert_exporter": "python",
   "pygments_lexer": "ipython3",
   "version": "3.12.0"
  }
 },
 "nbformat": 4,
 "nbformat_minor": 2
}
