{
 "cells": [
  {
   "cell_type": "code",
   "execution_count": 1,
   "metadata": {},
   "outputs": [],
   "source": [
    "import numpy as np\n",
    "\n",
    "np.set_printoptions(suppress=True, formatter={'float': '{:0.3f}'.format})"
   ]
  },
  {
   "cell_type": "code",
   "execution_count": 2,
   "metadata": {},
   "outputs": [
    {
     "name": "stdout",
     "output_type": "stream",
     "text": [
      "beta_n: 5.0\n",
      "\n",
      "A:\n",
      " [[ 1  0]\n",
      " [ 0 10]]\n",
      "\n",
      "h:\n",
      " [[101.000 10.000]\n",
      " [10.000 1.000]]\n",
      "\n",
      "valeurs propres:\n",
      " [101.990 0.010]\n",
      "\n",
      "T:\n",
      " [[0.000 4.975]\n",
      " [0.000 0.498]]\n",
      "\n",
      "norm(T):\n",
      " 5.0\n"
     ]
    }
   ],
   "source": [
    "gamma_n = 0.1\n",
    "beta_n = 1 / (2 * gamma_n)\n",
    "print(f'beta_n: {beta_n}\\n')\n",
    "\n",
    "# Matrice A_{n-1}\n",
    "vp_min = 1\n",
    "vp_max = 10\n",
    "A_0 = np.diag([vp_min, vp_max])\n",
    "print(f'A:\\n {A_0}\\n')\n",
    "\n",
    "# Matrice hessienne de g(X_n, theta_{n-1}) = \n",
    "hess = np.array([[101, 10], [10, 1]], dtype=float)\n",
    "print(f'h:\\n {hess}\\n')\n",
    "\n",
    "# check if hess is definite positive\n",
    "eig = np.linalg.eigvals(hess)\n",
    "print(f'valeurs propres:\\n {eig}\\n')\n",
    "\n",
    "Z = np.array([0, 1]).reshape(2, 1)\n",
    "Q = hess @ Z\n",
    "Q *= beta_n / np.linalg.norm(Q, ord=2)\n",
    "T = np.outer(Q, Z)\n",
    "print(f'T:\\n {T}\\n')\n",
    "print(f'norm(T):\\n {np.linalg.norm(T, ord=2)}')\n"
   ]
  },
  {
   "cell_type": "code",
   "execution_count": 3,
   "metadata": {},
   "outputs": [
    {
     "name": "stdout",
     "output_type": "stream",
     "text": [
      "T @ A:\n",
      " [[0.000 49.752]\n",
      " [0.000 4.975]]\n",
      "\n",
      "A_new:\n",
      " [[1.100 -4.975]\n",
      " [-4.975 9.105]]\n",
      "\n"
     ]
    }
   ],
   "source": [
    "print(f'T @ A:\\n {T @ A_0}\\n')\n",
    "\n",
    "A_new = A_0 - gamma_n * (A_0 @ T.T + T @ A_0 - np.eye(2))\n",
    "print(f'A_new:\\n {A_new}\\n')\n",
    "\n"
   ]
  },
  {
   "cell_type": "code",
   "execution_count": 4,
   "metadata": {},
   "outputs": [
    {
     "name": "stdout",
     "output_type": "stream",
     "text": [
      "valeurs propres:\n",
      " [-1.283 11.488]\n",
      "\n"
     ]
    }
   ],
   "source": [
    "eig = np.linalg.eigvals(A_new)\n",
    "print(f'valeurs propres:\\n {eig}\\n')"
   ]
  },
  {
   "cell_type": "code",
   "execution_count": null,
   "metadata": {},
   "outputs": [],
   "source": []
  },
  {
   "cell_type": "code",
   "execution_count": null,
   "metadata": {},
   "outputs": [],
   "source": []
  }
 ],
 "metadata": {
  "kernelspec": {
   "display_name": "env",
   "language": "python",
   "name": "python3"
  },
  "language_info": {
   "codemirror_mode": {
    "name": "ipython",
    "version": 3
   },
   "file_extension": ".py",
   "mimetype": "text/x-python",
   "name": "python",
   "nbconvert_exporter": "python",
   "pygments_lexer": "ipython3",
   "version": "3.12.0"
  }
 },
 "nbformat": 4,
 "nbformat_minor": 2
}
