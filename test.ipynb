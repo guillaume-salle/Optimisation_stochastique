{
 "cells": [
  {
   "cell_type": "code",
   "execution_count": 3,
   "metadata": {},
   "outputs": [],
   "source": [
    "import torch\n"
   ]
  },
  {
   "cell_type": "code",
   "execution_count": null,
   "metadata": {},
   "outputs": [],
   "source": [
    "\n",
    "d = 3\n",
    "X = torch.arange(1, 10).reshape(d, d)\n",
    "h = torch.tensor([1, 2, 3])\n",
    "\n",
    "result = X - h\n",
    "print(\"Result of X - h:\\n\", result)\n",
    "\n",
    "# Explicitly broadcast h to match X's shape\n",
    "h_broadcasted = h.unsqueeze(0).expand(d, -1)\n",
    "result = X - h_broadcasted\n",
    "\n",
    "print(\"h broadcasted:\\n\", h_broadcasted)\n",
    "print(\"Result of X - h:\\n\", result)\n"
   ]
  },
  {
   "cell_type": "code",
   "execution_count": 8,
   "metadata": {},
   "outputs": [
    {
     "name": "stdout",
     "output_type": "stream",
     "text": [
      "torch.Size([5])\n",
      "Summed Gradients:\n",
      " tensor([0.4223, 1.9742, 3.1068])\n"
     ]
    }
   ],
   "source": [
    "def grad(X: torch.Tensor, h: torch.Tensor) -> torch.Tensor:\n",
    "    epsilon = 1e-8\n",
    "    diff = X - h\n",
    "    norm = torch.norm(diff, dim=1)\n",
    "    \n",
    "    # Check if the norm is close to zero to avoid division by zero\n",
    "    safe_norm = torch.where(\n",
    "        torch.isclose(norm, torch.zeros_like(norm), atol=epsilon),\n",
    "        torch.ones_like(norm),  # Use ones to avoid division by zero\n",
    "        norm\n",
    "    )\n",
    "\n",
    "    # Compute the gradient and sum over the batch\n",
    "    # 'ij,i->j' means take 'ij' from diff, 'i' from -1/safe_norm, and sum over 'i' to produce 'j'\n",
    "    print(safe_norm.size())\n",
    "    grad = torch.einsum('ij,i->j', diff, -1 / safe_norm)\n",
    "\n",
    "    return grad\n",
    "\n",
    "# Example usage\n",
    "n, d = 5, 3  # Example dimensions\n",
    "X = torch.randn(n, d)  # Example batch of input data\n",
    "h = torch.randn(d)  # Example parameter vector\n",
    "\n",
    "# Calculate summed gradient for the batch\n",
    "summed_gradients = grad(X, h)\n",
    "print(\"Summed Gradients:\\n\", summed_gradients)\n"
   ]
  },
  {
   "cell_type": "code",
   "execution_count": 8,
   "metadata": {},
   "outputs": [
    {
     "name": "stdout",
     "output_type": "stream",
     "text": [
      "torch.Size([4])\n",
      "tensor([[ 0.6877,  0.4684, -1.2936, -1.2275,  0.8056],\n",
      "        [-1.5666,  0.1937, -0.3837, -0.2455, -1.4928],\n",
      "        [-1.0429,  1.4055, -0.1048,  1.7292,  1.1662],\n",
      "        [ 0.7462, -0.2710,  0.6413, -1.3080, -0.4603],\n",
      "        [ 2.1570, -0.3662,  1.4468,  0.4635,  1.4983]])\n"
     ]
    }
   ],
   "source": [
    "M = torch.randn(5, 5)\n",
    "print(M[:-1, -1].size())\n",
    "print(M)"
   ]
  },
  {
   "cell_type": "code",
   "execution_count": 9,
   "metadata": {},
   "outputs": [
    {
     "name": "stdout",
     "output_type": "stream",
     "text": [
      "tensor([[ 0.6877,  0.4684, -1.2936, -1.2275,  0.8056],\n",
      "        [-1.5666,  0.1937, -0.3837, -0.2455, -1.4928],\n",
      "        [-1.0429,  1.4055, -0.1048,  1.7292,  1.1662],\n",
      "        [ 0.7462, -0.2710,  0.6413, -1.3080, -0.4603],\n",
      "        [ 0.8056, -1.4928,  1.1662, -0.4603,  1.4983]])\n"
     ]
    }
   ],
   "source": [
    "M[-1, :-1] = M[:-1, -1]\n",
    "print(M)"
   ]
  },
  {
   "cell_type": "code",
   "execution_count": null,
   "metadata": {},
   "outputs": [],
   "source": []
  }
 ],
 "metadata": {
  "kernelspec": {
   "display_name": "env",
   "language": "python",
   "name": "python3"
  },
  "language_info": {
   "codemirror_mode": {
    "name": "ipython",
    "version": 3
   },
   "file_extension": ".py",
   "mimetype": "text/x-python",
   "name": "python",
   "nbconvert_exporter": "python",
   "pygments_lexer": "ipython3",
   "version": "3.12.0"
  }
 },
 "nbformat": 4,
 "nbformat_minor": 2
}
