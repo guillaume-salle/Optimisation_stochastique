{
 "cells": [
  {
   "cell_type": "code",
   "execution_count": 1,
   "metadata": {},
   "outputs": [],
   "source": [
    "import torch\n",
    "import numpy as np\n",
    "import time\n",
    "import timeit"
   ]
  },
  {
   "cell_type": "code",
   "execution_count": 2,
   "metadata": {},
   "outputs": [
    {
     "name": "stdout",
     "output_type": "stream",
     "text": [
      "132151.57754259897 132151.57754259897\n"
     ]
    }
   ],
   "source": [
    "mat = np.random.rand(1000, 1000)\n",
    "vector = np.random.rand(1000)\n",
    "\n",
    "res = vector.T @ mat @ vector\n",
    "\n",
    "ein = np.einsum('i,ij,j', vector, mat, vector)\n",
    "\n",
    "print(res, ein)"
   ]
  },
  {
   "cell_type": "code",
   "execution_count": 1,
   "metadata": {},
   "outputs": [
    {
     "name": "stdout",
     "output_type": "stream",
     "text": [
      "[1, 2, 3]\n"
     ]
    }
   ],
   "source": [
    "l1 = [1, 2, 3]\n",
    "l2 = l1\n",
    "l1 =[]\n",
    "print(l2)"
   ]
  },
  {
   "cell_type": "code",
   "execution_count": 5,
   "metadata": {},
   "outputs": [
    {
     "name": "stdout",
     "output_type": "stream",
     "text": [
      "Average time for NumPy matrix multiplication: 0.007967 seconds\n",
      "Average time for PyTorch matrix multiplication: 0.004477 seconds\n"
     ]
    }
   ],
   "source": [
    "matrix_size = 1000\n",
    "num_runs = 100\n",
    "\n",
    "# Create random matrices using NumPy\n",
    "np_matrix1 = np.random.rand(matrix_size, matrix_size)\n",
    "np_matrix2 = np.random.rand(matrix_size, matrix_size)\n",
    "\n",
    "# Convert NumPy matrices to PyTorch tensors\n",
    "torch_matrix1 = torch.tensor(np_matrix1, dtype=torch.float32)\n",
    "torch_matrix2 = torch.tensor(np_matrix2, dtype=torch.float32)\n",
    "\n",
    "# Define functions for matrix multiplication\n",
    "def numpy_multiplication():\n",
    "    res = np.matmul(np_matrix1, np_matrix2)\n",
    "    return res\n",
    "\n",
    "def torch_multiplication():\n",
    "    res = torch.matmul(torch_matrix1, torch_matrix2)\n",
    "    return res\n",
    "\n",
    "# Time NumPy matrix multiplication using timeit\n",
    "numpy_time = timeit.timeit(numpy_multiplication, number=num_runs) / num_runs\n",
    "print(f'Average time for NumPy matrix multiplication: {numpy_time:.6f} seconds')\n",
    "\n",
    "# Time PyTorch matrix multiplication using timeit\n",
    "torch_time = timeit.timeit(torch_multiplication, number=num_runs) / num_runs\n",
    "print(f'Average time for PyTorch matrix multiplication: {torch_time:.6f} seconds')"
   ]
  },
  {
   "cell_type": "code",
   "execution_count": 6,
   "metadata": {},
   "outputs": [
    {
     "name": "stdout",
     "output_type": "stream",
     "text": [
      "Conversion time: 0.15277600288391113 seconds\n"
     ]
    }
   ],
   "source": [
    "from torch.utils.data import DataLoader, TensorDataset\n",
    "\n",
    "# Sample data\n",
    "data = np.random.rand(10000, 10)\n",
    "labels = np.random.rand(10000, 1)\n",
    "\n",
    "# Convert to PyTorch tensors\n",
    "data_tensor = torch.tensor(data, dtype=torch.float32)\n",
    "labels_tensor = torch.tensor(labels, dtype=torch.float32)\n",
    "\n",
    "# Create TensorDataset and DataLoader\n",
    "dataset = TensorDataset(data_tensor, labels_tensor)\n",
    "dataloader = DataLoader(dataset, batch_size=1, shuffle=False)\n",
    "\n",
    "# Timing the conversion from PyTorch tensor to NumPy array\n",
    "start = time.time()\n",
    "for batch_data, batch_labels in dataloader:\n",
    "    np_batch_data = batch_data.numpy()\n",
    "    np_batch_labels = batch_labels.numpy()\n",
    "end = time.time()\n",
    "\n",
    "print(f\"Conversion time: {end - start} seconds\")\n"
   ]
  },
  {
   "cell_type": "code",
   "execution_count": null,
   "metadata": {},
   "outputs": [],
   "source": [
    "\n",
    "d = 3\n",
    "X = torch.arange(1, 10).reshape(d, d)\n",
    "h = torch.tensor([1, 2, 3])\n",
    "\n",
    "result = X - h\n",
    "print(\"Result of X - h:\\n\", result)\n",
    "\n",
    "# Explicitly broadcast h to match X's shape\n",
    "h_broadcasted = h.unsqueeze(0).expand(d, -1)\n",
    "result = X - h_broadcasted\n",
    "\n",
    "print(\"h broadcasted:\\n\", h_broadcasted)\n",
    "print(\"Result of X - h:\\n\", result)\n"
   ]
  },
  {
   "cell_type": "code",
   "execution_count": 8,
   "metadata": {},
   "outputs": [
    {
     "name": "stdout",
     "output_type": "stream",
     "text": [
      "torch.Size([5])\n",
      "Summed Gradients:\n",
      " tensor([0.4223, 1.9742, 3.1068])\n"
     ]
    }
   ],
   "source": [
    "def grad(X: torch.Tensor, h: torch.Tensor) -> torch.Tensor:\n",
    "    epsilon = 1e-8\n",
    "    diff = X - h\n",
    "    norm = torch.norm(diff, dim=1)\n",
    "    \n",
    "    # Check if the norm is close to zero to avoid division by zero\n",
    "    safe_norm = torch.where(\n",
    "        torch.isclose(norm, torch.zeros_like(norm), atol=epsilon),\n",
    "        torch.ones_like(norm),  # Use ones to avoid division by zero\n",
    "        norm\n",
    "    )\n",
    "\n",
    "    # Compute the gradient and sum over the batch\n",
    "    # 'ij,i->j' means take 'ij' from diff, 'i' from -1/safe_norm, and sum over 'i' to produce 'j'\n",
    "    print(safe_norm.size())\n",
    "    grad = torch.einsum('ij,i->j', diff, -1 / safe_norm)\n",
    "\n",
    "    return grad\n",
    "\n",
    "# Example usage\n",
    "n, d = 5, 3  # Example dimensions\n",
    "X = torch.randn(n, d)  # Example batch of input data\n",
    "h = torch.randn(d)  # Example parameter vector\n",
    "\n",
    "# Calculate summed gradient for the batch\n",
    "summed_gradients = grad(X, h)\n",
    "print(\"Summed Gradients:\\n\", summed_gradients)\n"
   ]
  },
  {
   "cell_type": "code",
   "execution_count": 8,
   "metadata": {},
   "outputs": [
    {
     "name": "stdout",
     "output_type": "stream",
     "text": [
      "torch.Size([4])\n",
      "tensor([[ 0.6877,  0.4684, -1.2936, -1.2275,  0.8056],\n",
      "        [-1.5666,  0.1937, -0.3837, -0.2455, -1.4928],\n",
      "        [-1.0429,  1.4055, -0.1048,  1.7292,  1.1662],\n",
      "        [ 0.7462, -0.2710,  0.6413, -1.3080, -0.4603],\n",
      "        [ 2.1570, -0.3662,  1.4468,  0.4635,  1.4983]])\n"
     ]
    }
   ],
   "source": [
    "M = torch.randn(5, 5)\n",
    "print(M[:-1, -1].size())\n",
    "print(M)"
   ]
  },
  {
   "cell_type": "code",
   "execution_count": 9,
   "metadata": {},
   "outputs": [
    {
     "name": "stdout",
     "output_type": "stream",
     "text": [
      "tensor([[ 0.6877,  0.4684, -1.2936, -1.2275,  0.8056],\n",
      "        [-1.5666,  0.1937, -0.3837, -0.2455, -1.4928],\n",
      "        [-1.0429,  1.4055, -0.1048,  1.7292,  1.1662],\n",
      "        [ 0.7462, -0.2710,  0.6413, -1.3080, -0.4603],\n",
      "        [ 0.8056, -1.4928,  1.1662, -0.4603,  1.4983]])\n"
     ]
    }
   ],
   "source": [
    "M[-1, :-1] = M[:-1, -1]\n",
    "print(M)"
   ]
  },
  {
   "cell_type": "code",
   "execution_count": null,
   "metadata": {},
   "outputs": [],
   "source": []
  }
 ],
 "metadata": {
  "kernelspec": {
   "display_name": "env",
   "language": "python",
   "name": "python3"
  },
  "language_info": {
   "codemirror_mode": {
    "name": "ipython",
    "version": 3
   },
   "file_extension": ".py",
   "mimetype": "text/x-python",
   "name": "python",
   "nbconvert_exporter": "python",
   "pygments_lexer": "ipython3",
   "version": "3.12.0"
  }
 },
 "nbformat": 4,
 "nbformat_minor": 2
}
