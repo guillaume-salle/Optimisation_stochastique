{
 "cells": [
  {
   "cell_type": "code",
   "execution_count": null,
   "metadata": {},
   "outputs": [],
   "source": [
    "import matplotlib.pyplot as plt\n",
    "import numpy as np"
   ]
  },
  {
   "cell_type": "code",
   "execution_count": null,
   "metadata": {},
   "outputs": [],
   "source": [
    "class Optimizer:\n",
    "    def __init__(self, objective_function, initial_params):\n",
    "        self.objective_function = objective_function\n",
    "        self.params = initial_params\n",
    "\n",
    "    def step(self):\n",
    "        raise NotImplementedError(\"Subclass must implement abstract method\")\n",
    "\n",
    "    def optimize(self, num_iterations):\n",
    "        for _ in range(num_iterations):\n",
    "            self.step()\n",
    "        return self.params"
   ]
  },
  {
   "cell_type": "code",
   "execution_count": null,
   "metadata": {},
   "outputs": [],
   "source": [
    "class SGD(Optimizer):\n",
    "    def __init__(self, objective_function, initial_params, learning_rate=0.01):\n",
    "        super().__init__(objective_function, initial_params)\n",
    "        self.learning_rate = learning_rate\n",
    "\n",
    "    def step(self):\n",
    "        grad = self.objective_function.gradient(self.params)\n",
    "        self.params -= self.learning_rate * grad"
   ]
  },
  {
   "cell_type": "code",
   "execution_count": null,
   "metadata": {},
   "outputs": [],
   "source": [
    "class NewtonMethod(Optimizer):\n",
    "    def __init__(self, objective_function, initial_params):\n",
    "        super().__init__(objective_function, initial_params)\n",
    "\n",
    "    def step(self):\n",
    "        grad = self.objective_function.gradient(self.params)\n",
    "        hessian = self.objective_function.hessian(self.params)\n",
    "        hessian_inv = np.linalg.inv(hessian)\n",
    "        self.params -= np.dot(hessian_inv, grad)"
   ]
  },
  {
   "cell_type": "code",
   "execution_count": null,
   "metadata": {},
   "outputs": [],
   "source": [
    "class ObjectiveFunction:\n",
    "    def __init__(self, function, gradient=None, hessian=None):\n",
    "        self.function = function\n",
    "        self.gradient = gradient\n",
    "        self.hessian = hessian\n",
    "\n",
    "    def __call__(self, x):\n",
    "        return self.function(x)\n",
    "\n",
    "    def gradient(self, x):\n",
    "        return self.gradient(x)\n",
    "\n",
    "    def hessian(self, x):\n",
    "        return self.hessian(x)"
   ]
  },
  {
   "cell_type": "code",
   "execution_count": null,
   "metadata": {},
   "outputs": [],
   "source": [
    "A = np.array([[1, 2], [3, 4]])\n",
    "b = np.array([1, 2])\n",
    "\n",
    "objective_function = ObjectiveFunction(\n",
    "    ???\n",
    ")\n",
    "\n",
    "initial_params = np.array([10.0])\n",
    "num_iterations = 100\n",
    "sgd = SGD(objective_function, initial_params)\n",
    "sgd.optimize(num_iterations)\n",
    "\n",
    "newton = NewtonMethod(objective_function, initial_params)\n",
    "newton.optimize(num_iterations)\n",
    "\n",
    "print(sgd.params)\n",
    "print(newton.params)"
   ]
  },
  {
   "cell_type": "code",
   "execution_count": null,
   "metadata": {},
   "outputs": [],
   "source": []
  },
  {
   "cell_type": "code",
   "execution_count": null,
   "metadata": {},
   "outputs": [],
   "source": []
  }
 ],
 "metadata": {
  "kernelspec": {
   "display_name": "env",
   "language": "python",
   "name": "python3"
  },
  "language_info": {
   "codemirror_mode": {
    "name": "ipython",
    "version": 3
   },
   "file_extension": ".py",
   "mimetype": "text/x-python",
   "name": "python",
   "nbconvert_exporter": "python",
   "pygments_lexer": "ipython3",
   "version": "3.12.0"
  }
 },
 "nbformat": 4,
 "nbformat_minor": 2
}
