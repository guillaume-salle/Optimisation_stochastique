{
 "cells": [
  {
   "cell_type": "code",
   "execution_count": 1,
   "metadata": {},
   "outputs": [],
   "source": [
    "import numpy as np\n"
   ]
  },
  {
   "cell_type": "code",
   "execution_count": 2,
   "metadata": {},
   "outputs": [
    {
     "name": "stdout",
     "output_type": "stream",
     "text": [
      "[[1 2]\n",
      " [2 4]]\n",
      "0.0\n",
      "EigResult(eigenvalues=array([0., 5.]), eigenvectors=array([[-0.89442719, -0.4472136 ],\n",
      "       [ 0.4472136 , -0.89442719]]))\n"
     ]
    }
   ],
   "source": [
    "a = 1\n",
    "b = 2\n",
    "c = 4\n",
    "M = np.array([[a, b], [b, c]])\n",
    "\n",
    "print(M)\n",
    "print(np.linalg.det(M))\n",
    "print(np.linalg.eig(M))"
   ]
  },
  {
   "cell_type": "code",
   "execution_count": 3,
   "metadata": {},
   "outputs": [
    {
     "name": "stdout",
     "output_type": "stream",
     "text": [
      "N : \n",
      "[[1 2]\n",
      " [0 0]]\n",
      "eigenval : [1. 0.]\n",
      "[[ 1.         -0.89442719]\n",
      " [ 0.          0.4472136 ]]\n"
     ]
    }
   ],
   "source": [
    "P = np.array([[1, 0], [0, 0]])\n",
    "\n",
    "N = P @ M\n",
    "\n",
    "print(f\"N : \\n{N}\")\n",
    "\n",
    "eigenval = np.linalg.eig(N)[0]\n",
    "print(f\"eigenval : {eigenval}\")\n",
    "\n",
    "eigenvec = np.linalg.eig(N)[1]\n",
    "print(eigenvec)\n"
   ]
  },
  {
   "cell_type": "code",
   "execution_count": 4,
   "metadata": {},
   "outputs": [
    {
     "name": "stdout",
     "output_type": "stream",
     "text": [
      "-1\n"
     ]
    }
   ],
   "source": [
    "X = np.array([1, -1])\n",
    "print(X.T @ N @ X)"
   ]
  },
  {
   "cell_type": "code",
   "execution_count": null,
   "metadata": {},
   "outputs": [],
   "source": []
  }
 ],
 "metadata": {
  "kernelspec": {
   "display_name": "env",
   "language": "python",
   "name": "python3"
  },
  "language_info": {
   "codemirror_mode": {
    "name": "ipython",
    "version": 3
   },
   "file_extension": ".py",
   "mimetype": "text/x-python",
   "name": "python",
   "nbconvert_exporter": "python",
   "pygments_lexer": "ipython3",
   "version": "3.12.0"
  }
 },
 "nbformat": 4,
 "nbformat_minor": 2
}
