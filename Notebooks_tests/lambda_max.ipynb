{
 "cells": [
  {
   "cell_type": "code",
   "execution_count": 1,
   "metadata": {},
   "outputs": [],
   "source": [
    "import numpy as np\n",
    "import matplotlib.pyplot as plt\n",
    "import random"
   ]
  },
  {
   "cell_type": "code",
   "execution_count": 2,
   "metadata": {},
   "outputs": [
    {
     "name": "stdout",
     "output_type": "stream",
     "text": [
      "norm of H_tilde: 2.000099997500125\n",
      "gamma: 0.04999750018748438\n",
      "norm of I- gamma H_tilde: 1.0507497439401372\n",
      "ratio: 1.015045627278004\n"
     ]
    }
   ],
   "source": [
    "a = 0.01\n",
    "epsilon = 1e-6\n",
    "H = np.array([[a,1],\n",
    "              [1,1/a + epsilon]]) \n",
    "P = 2 * np.array([[1,0],\n",
    "              [0,0]])\n",
    "\n",
    "\n",
    "H_tilde = H@P\n",
    "print('norm of H_tilde:', np.linalg.norm(H_tilde, ord=2))\n",
    "\n",
    "gamma_n = 0.1 / np.linalg.norm(H_tilde)\n",
    "print('gamma:', gamma_n)\n",
    "\n",
    "R = np.eye(2) - gamma_n * H_tilde\n",
    "norm = np.linalg.norm(R, ord=2)\n",
    "\n",
    "print('norm of I- gamma H_tilde:', norm)\n",
    "print('ratio:', (norm - 1) / gamma_n)"
   ]
  },
  {
   "cell_type": "code",
   "execution_count": 66,
   "metadata": {},
   "outputs": [
    {
     "name": "stdout",
     "output_type": "stream",
     "text": [
      "valeurs propres:  [1.00001785e-10 1.00010001e+02]\n",
      "nombre de fois sans update: 0\n"
     ]
    },
    {
     "data": {
      "image/png": "[encoded data removed]",
      "text/plain": [
       "<Figure size 640x480 with 1 Axes>"
      ]
     },
     "metadata": {},
     "output_type": "display_data"
    }
   ],
   "source": [
    "A = np.eye(2)\n",
    "a = 1e-2\n",
    "epsilon = 1e-6\n",
    "H = np.array([[a,1],\n",
    "              [1,1/a + epsilon]])\n",
    "print('valeurs propres: ', np.linalg.eigvals(H))\n",
    "\n",
    "norm_list = []\n",
    "\n",
    "count = 0\n",
    "for n in range(1, 100000):\n",
    "    # print(f'norme de A_{n}:', np.linalg.norm(A, ord=ord))\n",
    "    norm_list.append(np.linalg.norm(A, ord=2))\n",
    "    gamma_n = n ** (-0.75)\n",
    "    M = np.zeros_like(H)\n",
    "    z = random.randint(0,1)\n",
    "\n",
    "    # lambda_max stable meme avec coeff = 10\n",
    "    # M[0,0] = 2\n",
    "\n",
    "    # fait exploser lambda_max, sauf si coeff <= 2/e - 0.00365\n",
    "    # M[z,z]=2\n",
    "    # M[n%2, n%2] = 2\n",
    "    M[1,1] = 2 # le pire cas\n",
    "\n",
    "    coeff = 2 / np.e - 0.003\n",
    "    H_n = coeff * H / (gamma_n * np.linalg.norm(H@M, ord=2) + epsilon)\n",
    "    H_tilde = H_n @ M\n",
    "    if gamma_n * np.linalg.norm(H_tilde, ord=2) <= coeff:\n",
    "        A = A - gamma_n * (H_tilde.T @ A + A @ H_tilde + gamma_n * H_tilde.T @ A @ H_tilde + P)\n",
    "    else:\n",
    "        count+=1\n",
    "print('nombre de fois sans update:', count)\n",
    "\n",
    "plt.plot(norm_list)\n",
    "plt.show()\n"
   ]
  },
  {
   "cell_type": "code",
   "execution_count": 19,
   "metadata": {},
   "outputs": [
    {
     "name": "stdout",
     "output_type": "stream",
     "text": [
      "0.7357588823428847\n"
     ]
    }
   ],
   "source": [
    "print(2/np.e)"
   ]
  },
  {
   "cell_type": "code",
   "execution_count": null,
   "metadata": {},
   "outputs": [],
   "source": []
  }
 ],
 "metadata": {
  "kernelspec": {
   "display_name": "env",
   "language": "python",
   "name": "python3"
  },
  "language_info": {
   "codemirror_mode": {
    "name": "ipython",
    "version": 3
   },
   "file_extension": ".py",
   "mimetype": "text/x-python",
   "name": "python",
   "nbconvert_exporter": "python",
   "pygments_lexer": "ipython3",
   "version": "3.13.2"
  }
 },
 "nbformat": 4,
 "nbformat_minor": 2
}
