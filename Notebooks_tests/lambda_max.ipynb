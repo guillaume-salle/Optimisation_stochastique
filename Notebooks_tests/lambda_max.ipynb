{
 "cells": [
  {
   "cell_type": "code",
   "execution_count": 1,
   "metadata": {},
   "outputs": [],
   "source": [
    "import numpy as np\n",
    "import matplotlib.pyplot as plt\n",
    "import random\n",
    "from tqdm import tqdm"
   ]
  },
  {
   "cell_type": "code",
   "execution_count": 2,
   "metadata": {},
   "outputs": [
    {
     "name": "stdout",
     "output_type": "stream",
     "text": [
      "H_tilde:\n",
      " [[0.02 2.  ]\n",
      " [0.   0.  ]]\n",
      "norm of H_tilde: 2.000099997500125\n",
      "gamma: 0.24998750093742192\n",
      "norm of I- gamma H_tilde: 1.2783483116051932\n",
      "ratio: 0.5566966232103865\n"
     ]
    }
   ],
   "source": [
    "seuil = 1/2\n",
    "a = 1e-2\n",
    "epsilon = 1e-6\n",
    "H = np.array([[a,1],\n",
    "              [1,1/a + epsilon]]) \n",
    "P = 2 * np.array([[1,0],\n",
    "              [0,0]])\n",
    "\n",
    "\n",
    "H_tilde = P@H\n",
    "print('H_tilde:\\n', H_tilde)\n",
    "print('norm of H_tilde:', np.linalg.norm(H_tilde, ord=2))\n",
    "\n",
    "gamma_n = seuil / np.linalg.norm(H_tilde)\n",
    "print('gamma:', gamma_n)\n",
    "\n",
    "R = np.eye(2) - gamma_n * H_tilde\n",
    "norm = np.linalg.norm(R, ord=2)\n",
    "eigenvectors, eigenvalues = np.linalg.eig(R)\n",
    "\n",
    "print('norm of I- gamma H_tilde:', norm)\n",
    "print('ratio:', (norm - 1) / seuil)\n",
    "# print('eigenvalues:', eigenvalues)\n",
    "# print('eigenvectors:', eigenvectors)"
   ]
  },
  {
   "cell_type": "code",
   "execution_count": null,
   "metadata": {},
   "outputs": [
    {
     "name": "stdout",
     "output_type": "stream",
     "text": [
      "valeurs propres:  [1.13686838e-13 1.00000100e+03]\n"
     ]
    },
    {
     "name": "stderr",
     "output_type": "stream",
     "text": [
      "100%|██████████| 99/99 [00:00<00:00, 20069.41it/s]"
     ]
    },
    {
     "name": "stdout",
     "output_type": "stream",
     "text": [
      "nombre de fois sans update: 58\n"
     ]
    },
    {
     "name": "stderr",
     "output_type": "stream",
     "text": [
      "\n"
     ]
    },
    {
     "data": {
      "image/png": "[encoded data removed]",
      "text/plain": [
       "<Figure size 640x480 with 1 Axes>"
      ]
     },
     "metadata": {},
     "output_type": "display_data"
    }
   ],
   "source": [
    "A = np.eye(2)\n",
    "a = 1e-3\n",
    "epsilon = 1e-8\n",
    "H = np.array([[a, 1], [1, 1 / a + epsilon]])\n",
    "# H = np.array([[a,1],\n",
    "#               [1,a]])\n",
    "H_inv = np.linalg.inv(H)\n",
    "print(\"valeurs propres: \", np.linalg.eigvals(H))\n",
    "\n",
    "norm_list = []\n",
    "error_list = []\n",
    "N = int(1e5)\n",
    "\n",
    "count = 0\n",
    "for n in tqdm(range(1, N)):\n",
    "    try:\n",
    "        norm_list.append(np.linalg.norm(A, ord=2))\n",
    "    except:\n",
    "        print(A)\n",
    "        break\n",
    "    # error_list.append(np.linalg.norm(H_inv - A, ord=2))\n",
    "    gamma_n = n ** (-0.75)\n",
    "    M = np.zeros_like(H)\n",
    "    z = random.randint(0, 1)\n",
    "\n",
    "    # meilleure colonne de H mais fait exploser lambda max en 100 iter avec seuil=1, \n",
    "    # calme sans multiplier par seuil\n",
    "    # M[1,1] = 2\n",
    "    # pire colonne de H, lambda_max grandit polynomial sans seuil, et lineairement avec\n",
    "    # M[0, 0] = 2  \n",
    "\n",
    "    # lambda_max grandit polynimial sans seuil, et exp avec\n",
    "    M[z,z]=2\n",
    "    # M[n%2, n%2] = 2\n",
    "\n",
    "    # seuil = 2 / np.e - 0.0037\n",
    "    seuil = 1 / 2\n",
    "    H_tilde = M @ H\n",
    "    # H_tilde *= seuil / (gamma_n * np.linalg.norm(H_tilde, ord=2) + epsilon)\n",
    "    if gamma_n * np.linalg.norm(H_tilde, ord=2) <= seuil:\n",
    "        A = A - gamma_n * (H_tilde @ A + A @ H_tilde.T + gamma_n * H_tilde @ A @ H_tilde.T + M)\n",
    "    else:\n",
    "        count += 1\n",
    "print(\"nombre de fois sans update:\", count)\n",
    "\n",
    "# Generate n^0.25 values for comparison\n",
    "n_values = np.arange(1, N)  # Create an array of n values\n",
    "# exp = 0.64\n",
    "exp = 0.25\n",
    "n_power = 100 * n_values ** exp\n",
    "\n",
    "# Plot norm_list and n^(1-gamma\n",
    "plt.plot(norm_list, label=\"Norm of A\")\n",
    "# plt.plot(error_list, label=\"Error\")\n",
    "plt.plot(n_values, n_power, label=f\"n^{exp}\", linestyle=\"--\")\n",
    "plt.legend()\n",
    "plt.show()"
   ]
  },
  {
   "cell_type": "code",
   "execution_count": 4,
   "metadata": {},
   "outputs": [
    {
     "name": "stdout",
     "output_type": "stream",
     "text": [
      "[[2.e-05 2.e+00]\n",
      " [0.e+00 0.e+00]]\n",
      "[[ 1.00079992e+18 -1.00079992e+13]\n",
      " [-1.00079992e+13  1.00079992e+08]]\n"
     ]
    }
   ],
   "source": [
    "print(M @ H)\n",
    "print(H_inv)"
   ]
  },
  {
   "cell_type": "code",
   "execution_count": 5,
   "metadata": {},
   "outputs": [
    {
     "name": "stdout",
     "output_type": "stream",
     "text": [
      "0.7357588823428847\n",
      "0.0036787944117144234\n",
      "0.732109518286464\n"
     ]
    }
   ],
   "source": [
    "print(2/np.e)\n",
    "print(0.01/np.e)\n",
    "print(1.99008 / np.e)"
   ]
  },
  {
   "cell_type": "code",
   "execution_count": 6,
   "metadata": {},
   "outputs": [
    {
     "name": "stdout",
     "output_type": "stream",
     "text": [
      "1.0007999172936236e+18\n"
     ]
    }
   ],
   "source": [
    "print(np.linalg.norm(np.linalg.inv(H), ord=2))"
   ]
  },
  {
   "cell_type": "code",
   "execution_count": null,
   "metadata": {},
   "outputs": [],
   "source": []
  }
 ],
 "metadata": {
  "kernelspec": {
   "display_name": "env",
   "language": "python",
   "name": "python3"
  },
  "language_info": {
   "codemirror_mode": {
    "name": "ipython",
    "version": 3
   },
   "file_extension": ".py",
   "mimetype": "text/x-python",
   "name": "python",
   "nbconvert_exporter": "python",
   "pygments_lexer": "ipython3",
   "version": "3.13.2"
  }
 },
 "nbformat": 4,
 "nbformat_minor": 2
}
