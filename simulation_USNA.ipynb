{
 "cells": [
  {
   "cell_type": "code",
   "execution_count": null,
   "metadata": {},
   "outputs": [],
   "source": [
    "from config_simulation import (\n",
    "    simulation_linear_regression,\n",
    "    simulation_logistic_regression,\n",
    "    simulation_geometric_median,\n",
    "    simulation_spherical_distribution,\n",
    "    simulation_p_means,\n",
    "    eval_covtype,\n",
    "    n,\n",
    "    N,\n",
    "    nu_list,\n",
    "    gamma_list,\n",
    ")\n",
    "from optimization_algorithms import USNA\n",
    "\n",
    "\n",
    "optimizer_class = USNA\n",
    "optimizer_list = [optimizer_class(gamma=gamma) for gamma in gamma_list]"
   ]
  },
  {
   "cell_type": "code",
   "execution_count": null,
   "metadata": {},
   "outputs": [],
   "source": [
    "simulation = simulation_linear_regression(optimizer_list=optimizer_list)\n",
    "simulation.run_multiple_datasets(N=N, n=n)"
   ]
  },
  {
   "cell_type": "code",
   "execution_count": null,
   "metadata": {},
   "outputs": [],
   "source": [
    "simulation = simulation_logistic_regression(optimizer_list=optimizer_list)\n",
    "simulation.run_multiple_datasets(N=N, n=n)"
   ]
  },
  {
   "cell_type": "code",
   "execution_count": null,
   "metadata": {},
   "outputs": [],
   "source": [
    "simulation = simulation_geometric_median(optimizer_list=optimizer_list)\n",
    "simulation.run_multiple_datasets(N=N, n=n)"
   ]
  },
  {
   "cell_type": "code",
   "execution_count": null,
   "metadata": {},
   "outputs": [],
   "source": [
    "simulation = simulation_spherical_distribution(optimizer_list=optimizer_list)\n",
    "simulation.run_multiple_datasets(N=N, n=n)"
   ]
  },
  {
   "cell_type": "code",
   "execution_count": null,
   "metadata": {},
   "outputs": [],
   "source": [
    "simulation = simulation_p_means(optimizer_list=optimizer_list)\n",
    "simulation.run_multiple_datasets(N=N, n=n)"
   ]
  },
  {
   "cell_type": "code",
   "execution_count": null,
   "metadata": {},
   "outputs": [],
   "source": [
    "eval = eval_covtype(optimizer_list=optimizer_list)\n",
    "_, _ = eval.run()"
   ]
  }
 ],
 "metadata": {
  "kernelspec": {
   "display_name": "env",
   "language": "python",
   "name": "python3"
  },
  "language_info": {
   "codemirror_mode": {
    "name": "ipython",
    "version": 3
   },
   "file_extension": ".py",
   "mimetype": "text/x-python",
   "name": "python",
   "nbconvert_exporter": "python",
   "pygments_lexer": "ipython3",
   "version": "3.11.2"
  }
 },
 "nbformat": 4,
 "nbformat_minor": 2
}
