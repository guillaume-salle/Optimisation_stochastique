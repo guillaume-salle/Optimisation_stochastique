{
 "cells": [
  {
   "cell_type": "code",
   "execution_count": null,
   "metadata": {},
   "outputs": [],
   "source": [
    "import numpy as np\n",
    "\n",
    "from simulation import Simulation\n",
    "from objective_functions import LogisticRegression\n",
    "from optimization_algorithms import SGD, SNA\n",
    "from datasets import generate_logistic_dataset"
   ]
  },
  {
   "cell_type": "code",
   "execution_count": null,
   "metadata": {},
   "outputs": [],
   "source": [
    "# Usage example\n",
    "N = 10\n",
    "n = 10_0000\n",
    "objective_function = LogisticRegression()\n",
    "true_theta = np.array([0, 3, -9, 4, -9, 15, 0, -7, 1, 0])\n",
    "optimizer_list = [SGD(0.66, 1), SNA(1, 1)]\n",
    "e = 2\n",
    "\n",
    "exp = Simulation(\n",
    "    objective_function,\n",
    "    optimizer_list,\n",
    "    e,\n",
    "    true_theta=true_theta,\n",
    "    generate_dataseet=generate_logistic_dataset,\n",
    ")"
   ]
  },
  {
   "cell_type": "code",
   "execution_count": null,
   "metadata": {},
   "outputs": [],
   "source": [
    "# Run the experiment\n",
    "exp.generate_initial_theta()\n",
    "exp.dataset = exp.generate_dataset(n, true_theta)\n",
    "theta_errors, _ = exp.run(plot=True)"
   ]
  },
  {
   "cell_type": "code",
   "execution_count": null,
   "metadata": {},
   "outputs": [],
   "source": [
    "exp.run_multiple(num_runs=N)"
   ]
  },
  {
   "cell_type": "code",
   "execution_count": null,
   "metadata": {},
   "outputs": [],
   "source": []
  }
 ],
 "metadata": {
  "kernelspec": {
   "display_name": "env",
   "language": "python",
   "name": "python3"
  },
  "language_info": {
   "codemirror_mode": {
    "name": "ipython",
    "version": 3
   },
   "file_extension": ".py",
   "mimetype": "text/x-python",
   "name": "python",
   "nbconvert_exporter": "python",
   "pygments_lexer": "ipython3",
   "version": "3.12.0"
  }
 },
 "nbformat": 4,
 "nbformat_minor": 2
}
