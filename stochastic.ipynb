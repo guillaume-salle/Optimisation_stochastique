{
 "cells": [
  {
   "cell_type": "code",
   "execution_count": null,
   "metadata": {},
   "outputs": [],
   "source": [
    "import numpy as np\n",
    "import matplotlib.pyplot as plt"
   ]
  },
  {
   "cell_type": "code",
   "execution_count": null,
   "metadata": {},
   "outputs": [],
   "source": [
    "class OnlineOptimizer:\n",
    "    def __init__(self, objective_function, initial_params):\n",
    "        self.objective_function = objective_function\n",
    "        self.params = initial_params\n",
    "\n",
    "    def update(self, data_point):\n",
    "        raise NotImplementedError"
   ]
  },
  {
   "cell_type": "code",
   "execution_count": null,
   "metadata": {},
   "outputs": [],
   "source": [
    "class SGD(OnlineOptimizer):\n",
    "    def __init__(self, objective_function, initial_params, learning_rate):\n",
    "        super().__init__(objective_function, initial_params)\n",
    "        self.learning_rate = learning_rate\n",
    "\n",
    "    def update(self, data_point):\n",
    "        grad = self.objective_function.gradient(self.params, data_point)\n",
    "        self.params -= self.learning_rate * grad"
   ]
  },
  {
   "cell_type": "code",
   "execution_count": null,
   "metadata": {},
   "outputs": [],
   "source": [
    "class SNA(OnlineOptimizer):\n",
    "    def __init__(self, objective_function, initial_params, learning_rate):\n",
    "        super().__init__(objective_function, initial_params)\n",
    "        self.learning_rate = learning_rate\n",
    "\n",
    "    def update(self, data_point):\n",
    "        grad = self.objective_function.gradient(self.params, data_point)\n",
    "        hessian = self.objective_function.hessian(self.params, data_point)\n",
    "        hessian_inv = np.linalg.ing(hessian)\n",
    "        self.params -= self.learning_rate * np.dot(hessian_inv, grad)"
   ]
  },
  {
   "cell_type": "code",
   "execution_count": null,
   "metadata": {},
   "outputs": [],
   "source": [
    "class OnlineObjectiveFunction:\n",
    "    def __init__(self, function, gradient, hessian):\n",
    "        self.function = function\n",
    "        self.gradient = gradient\n",
    "        self.hessian = hessian\n",
    "\n",
    "    def __call__(self, params, data_point):\n",
    "        return self.function(params, data_point)\n",
    "\n",
    "    def gradient(self, params, data_point):\n",
    "        return self.gradient(params, data_point)\n",
    "\n",
    "    def hessian(self, params, data_point):\n",
    "        return self.hessian(params, data_point)"
   ]
  },
  {
   "cell_type": "code",
   "execution_count": null,
   "metadata": {},
   "outputs": [],
   "source": [
    "class LinearRegressionObjectiveFunction:\n",
    "    def __init__(self):\n",
    "        pass\n",
    "\n",
    "    def evaluate(self, params, data):\n",
    "        w, b = params\n",
    "        X, Y = data\n",
    "        Y_pred = np.dot(w, X) + b\n",
    "        return np.linalg.norm(Y - Y_pred) ** 2\n",
    "\n",
    "    def gradient(self, params, data_point):\n",
    "        w, b = params\n",
    "        x, y = data_point\n",
    "        y_pred = np.dot(w, x) + b\n",
    "        error = y - y_pred\n",
    "        grad_w = -2 * error * x\n",
    "        grad_b = -2 * error\n",
    "        return np.array([grad_w, grad_b])\n",
    "\n",
    "    def hessian(self, params, data_point):\n",
    "        w, b = params\n",
    "        x, y = data_point\n",
    "        y_pred = np.dot(w, x) + b\n",
    "        error = y - y_pred\n",
    "        hessian_w = 2 * np.outer(x, x)\n",
    "        hessian_b = 2\n",
    "        return np.array([hessian_w, hessian_b])"
   ]
  },
  {
   "cell_type": "code",
   "execution_count": null,
   "metadata": {},
   "outputs": [],
   "source": []
  }
 ],
 "metadata": {
  "kernelspec": {
   "display_name": "env",
   "language": "python",
   "name": "python3"
  },
  "language_info": {
   "codemirror_mode": {
    "name": "ipython",
    "version": 3
   },
   "file_extension": ".py",
   "mimetype": "text/x-python",
   "name": "python",
   "nbconvert_exporter": "python",
   "pygments_lexer": "ipython3",
   "version": "3.12.0"
  }
 },
 "nbformat": 4,
 "nbformat_minor": 2
}
