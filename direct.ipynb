{
 "cells": [
  {
   "cell_type": "code",
   "execution_count": null,
   "metadata": {},
   "outputs": [],
   "source": [
    "import numpy as np\n",
    "import matplotlib.pyplot as plt\n",
    "\n",
    "from tqdm import tqdm\n",
    "import time"
   ]
  },
  {
   "cell_type": "code",
   "execution_count": null,
   "metadata": {},
   "outputs": [],
   "source": [
    "def sigmoid(x):\n",
    "    return 1 / (1 + np.exp(-x))\n",
    "\n",
    "\n",
    "def generate_logistic_data(theta_true, n_samples=1000):\n",
    "    n_features = len(theta_true) - 1\n",
    "    X = np.random.randn(n_samples, n_features)\n",
    "    # Add a bias term\n",
    "    X = np.hstack((np.ones((n_samples, 1)), X))\n",
    "    p = sigmoid(np.dot(X, theta_true))\n",
    "    y = np.random.binomial(1, p, n_samples)\n",
    "    return X, y"
   ]
  },
  {
   "cell_type": "code",
   "execution_count": null,
   "metadata": {},
   "outputs": [],
   "source": [
    "# Hyperparameters\n",
    "n = 10_000\n",
    "theta_true = np.array([0, 3, -9, 4, -9, 15, 0, -7, 1, 0])\n",
    "\n",
    "# Generate dataset\n",
    "X, Y = generate_logistic_data(theta_true, n)\n",
    "print(X.shape)\n",
    "print(Y.shape)"
   ]
  },
  {
   "cell_type": "code",
   "execution_count": null,
   "metadata": {},
   "outputs": [],
   "source": [
    "def logistic_loss(theta, X, Y):\n",
    "    dot_product = np.dot(X, theta)\n",
    "    p = sigmoid(dot_product)\n",
    "    loss = -Y * np.log(p) - (1 - Y) * np.log(1 - p)\n",
    "    return loss\n",
    "\n",
    "\n",
    "def logistic_grad(theta, X, Y):\n",
    "    dot_product = np.dot(X, theta)\n",
    "    p = sigmoid(dot_product)\n",
    "    # grad = (p - Y)[:, None] * X\n",
    "    grad = (p - Y) * X\n",
    "    return grad"
   ]
  },
  {
   "cell_type": "code",
   "execution_count": null,
   "metadata": {},
   "outputs": [],
   "source": [
    "# Online SGD, only one pass on data\n",
    "def SGD_logistic(theta, theta_true, X, Y, mu, c_mu):\n",
    "    \"\"\"\n",
    "    theta: initial estimate of theta\n",
    "    theta_true: true theta\n",
    "    X: features\n",
    "    y: labels\n",
    "    mu = learning rate exponent\n",
    "    c_mu = constant for learning rate\n",
    "    \"\"\"\n",
    "    theta = theta.copy()\n",
    "    n, d = X.shape\n",
    "    errors = [(theta - theta_true).dot(theta - theta_true)]\n",
    "    for i in tqdm(range(n)):\n",
    "        grad = logistic_grad(theta, X[i], Y[i])\n",
    "        lr = c_mu * (i + 1) ** -mu\n",
    "        theta -= lr * grad\n",
    "        errors.append((theta - theta_true).dot(theta - theta_true))\n",
    "    return theta, errors"
   ]
  },
  {
   "cell_type": "code",
   "execution_count": null,
   "metadata": {},
   "outputs": [],
   "source": [
    "# Online Newton algorithm, only one pass on data\n",
    "def SNA_logistic(theta, theta_true, X, Y, mu, c_mu):\n",
    "    theta = theta.copy()\n",
    "    n, d = X.shape\n",
    "    hess = np.eye(d)\n",
    "    hess_inv = np.eye(d)\n",
    "    errors = [(theta - theta_true).dot(theta - theta_true)]\n",
    "\n",
    "    for i in tqdm(range(n)):\n",
    "        z = np.dot(X[i], theta)\n",
    "        p = sigmoid(z)\n",
    "        grad = (p - Y[i]) * X[i]\n",
    "        hess += (p * (1 - p) * np.outer(X[i], X[i]) - hess) / (i + 1)\n",
    "        if i > 1000:\n",
    "            try:\n",
    "                hess_inv = np.linalg.inv(hess)\n",
    "            except np.linalg.LinAlgError:\n",
    "                print(f\"iteration {i}: hess not invertible\")\n",
    "                hess_inv = np.eye(d)\n",
    "        lr = c_mu * (i + 1) ** -mu\n",
    "        theta -= lr * np.dot(hess_inv, grad)\n",
    "        errors.append((theta - theta_true).dot(theta - theta_true))\n",
    "    return theta, hess, hess_inv, errors"
   ]
  },
  {
   "cell_type": "code",
   "execution_count": null,
   "metadata": {},
   "outputs": [],
   "source": [
    "mu = 1\n",
    "c_mu = 0.1\n",
    "theta = theta_true + np.random.normal(0, 1, size=theta_true.shape)\n",
    "print(theta)\n",
    "print(theta_true)\n",
    "theta_SGD, errors_SGD = SGD_logistic(theta, theta_true, X, Y, mu, c_mu)\n",
    "theta_SNA, hess, hess_inv, errors_SNA = SNA_logistic(theta, theta_true, X, Y, mu, c_mu)\n",
    "print(theta_SNA)"
   ]
  },
  {
   "cell_type": "code",
   "execution_count": null,
   "metadata": {},
   "outputs": [],
   "source": [
    "def plot_param_errors(errors_SGD, errors_SNA):\n",
    "    plt.plot(errors_SGD, label=\"SGD\")\n",
    "    # plt.plot(errors_SNA, label=\"SNA\")\n",
    "    plt.xlabel(\"Sample size\")\n",
    "    plt.ylabel(\"Error\")\n",
    "    plt.title(\"Parameter Estimation Error over Sample Size\")\n",
    "    plt.legend()\n",
    "    plt.show()"
   ]
  },
  {
   "cell_type": "code",
   "execution_count": null,
   "metadata": {},
   "outputs": [],
   "source": [
    "plot_param_errors(errors_SGD, errors_SNA)"
   ]
  },
  {
   "cell_type": "code",
   "execution_count": null,
   "metadata": {},
   "outputs": [],
   "source": []
  },
  {
   "cell_type": "code",
   "execution_count": null,
   "metadata": {},
   "outputs": [],
   "source": []
  }
 ],
 "metadata": {
  "kernelspec": {
   "display_name": "env",
   "language": "python",
   "name": "python3"
  },
  "language_info": {
   "codemirror_mode": {
    "name": "ipython",
    "version": 3
   },
   "file_extension": ".py",
   "mimetype": "text/x-python",
   "name": "python",
   "nbconvert_exporter": "python",
   "pygments_lexer": "ipython3",
   "version": "3.12.0"
  }
 },
 "nbformat": 4,
 "nbformat_minor": 2
}
