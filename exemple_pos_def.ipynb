{
 "cells": [
  {
   "cell_type": "code",
   "execution_count": 1,
   "metadata": {},
   "outputs": [],
   "source": [
    "import numpy as np\n",
    "\n",
    "np.set_printoptions(suppress=True, formatter={'float': '{:0.3f}'.format})"
   ]
  },
  {
   "cell_type": "code",
   "execution_count": 2,
   "metadata": {},
   "outputs": [
    {
     "name": "stdout",
     "output_type": "stream",
     "text": [
      "A:\n",
      " [[ 1  0]\n",
      " [ 0 10]]\n",
      "\n",
      "h:\n",
      " [[9.182 0.909]\n",
      " [0.909 0.091]]\n",
      "\n",
      "valeurs propres:\n",
      " [9.272 0.001]\n",
      "\n",
      "T:\n",
      " [[0.000 0.909]\n",
      " [0.000 0.091]]\n",
      "\n",
      "norm(T):\n",
      " 0.9136250564655354\n"
     ]
    }
   ],
   "source": [
    "gamma_n = 0.01\n",
    "beta_n = 1 / (2 * gamma_n)\n",
    "\n",
    "# Matrice A_{n-1}\n",
    "vp_min = 1\n",
    "vp_max = 10\n",
    "A_0 = np.diag([vp_min, vp_max])\n",
    "print(f'A:\\n {A_0}\\n')\n",
    "\n",
    "# Matrice hessienne de g(X_n, theta_{n-1}) = \n",
    "hess = np.array([[101, 10], [10, 1]]) / 11\n",
    "print(f'h:\\n {hess}\\n')\n",
    "\n",
    "# check if hess is definite positive\n",
    "eig = np.linalg.eigvals(hess)\n",
    "print(f'valeurs propres:\\n {eig}\\n')\n",
    "\n",
    "Z = np.array([0, 1]).reshape(2, 1)\n",
    "T = hess @ Z @ Z.T\n",
    "print(f'T:\\n {T}\\n')\n",
    "print(f'norm(T):\\n {np.linalg.norm(T, ord=2)}')\n"
   ]
  },
  {
   "cell_type": "code",
   "execution_count": 3,
   "metadata": {},
   "outputs": [
    {
     "name": "stdout",
     "output_type": "stream",
     "text": [
      "T @ A:\n",
      " [[0.000 9.091]\n",
      " [0.000 0.909]]\n",
      "\n",
      "A_new:\n",
      " [[1.000 -4.545]\n",
      " [-4.545 9.091]]\n",
      "\n"
     ]
    }
   ],
   "source": [
    "print(f'T @ A:\\n {T @ A_0}\\n')\n",
    "\n",
    "A_new = A_0 - 0.5 * (A_0 @ T.T + T @ A_0)\n",
    "print(f'A_new:\\n {A_new}\\n')\n",
    "\n"
   ]
  },
  {
   "cell_type": "code",
   "execution_count": 4,
   "metadata": {},
   "outputs": [
    {
     "name": "stdout",
     "output_type": "stream",
     "text": [
      "res_sym: [[-5.091]]\n"
     ]
    }
   ],
   "source": [
    "u = np.array([2,1]).reshape(2,1)\n",
    "\n",
    "res_sym = u.T @ A_new @ u \n",
    "print(f'res_sym: {res_sym}')\n",
    "\n"
   ]
  },
  {
   "cell_type": "code",
   "execution_count": null,
   "metadata": {},
   "outputs": [],
   "source": []
  },
  {
   "cell_type": "code",
   "execution_count": null,
   "metadata": {},
   "outputs": [],
   "source": []
  }
 ],
 "metadata": {
  "kernelspec": {
   "display_name": "env",
   "language": "python",
   "name": "python3"
  },
  "language_info": {
   "codemirror_mode": {
    "name": "ipython",
    "version": 3
   },
   "file_extension": ".py",
   "mimetype": "text/x-python",
   "name": "python",
   "nbconvert_exporter": "python",
   "pygments_lexer": "ipython3",
   "version": "3.12.0"
  }
 },
 "nbformat": 4,
 "nbformat_minor": 2
}
