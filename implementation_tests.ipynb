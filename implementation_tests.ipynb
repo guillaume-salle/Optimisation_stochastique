{
 "cells": [
  {
   "cell_type": "code",
   "execution_count": 5,
   "metadata": {},
   "outputs": [],
   "source": [
    "import torch\n",
    "import numpy as np\n",
    "import time\n",
    "import timeit\n"
   ]
  },
  {
   "cell_type": "code",
   "execution_count": 32,
   "metadata": {},
   "outputs": [
    {
     "name": "stdout",
     "output_type": "stream",
     "text": [
      "True\n",
      "True\n",
      "True\n",
      "True\n",
      "True\n",
      "True\n"
     ]
    }
   ],
   "source": [
    "n = 20 # Number of vectors\n",
    "d = 20  # Dimensionality of vectors\n",
    "v = torch.randn(n, d)\n",
    "w = torch.rand(n)\n",
    "\n",
    "# Method 0\n",
    "def method_0(v, w):\n",
    "    n, d = v.shape\n",
    "    A = torch.zeros(d, d)\n",
    "    for i in range(n):\n",
    "        add = w[i] * torch.outer(v[i], v[i])\n",
    "        A += add\n",
    "    return A\n",
    "\n",
    "\n",
    "# Method 1\n",
    "def method_1(v, w):\n",
    "    outerProds = torch.einsum('nd,nb->ndb', v, v)\n",
    "    A = torch.einsum('ndb,n->db', outerProds, w)\n",
    "    return A\n",
    "\n",
    "# Method 2\n",
    "def method_2(v, w):\n",
    "    vScaled = torch.einsum('nd,n->nd', v, torch.sqrt(w))\n",
    "    A = torch.einsum('nd,nb->db', vScaled, vScaled)\n",
    "    return A\n",
    "\n",
    "# Method 3\n",
    "def method_3(v, w):\n",
    "    Y = torch.einsum('nd,n->nd', v, w)\n",
    "    A = torch.einsum('nd,nb->db', Y, v)\n",
    "    return A\n",
    "\n",
    "# Method 4 (normalized)\n",
    "def method_4(v, w):\n",
    "    n = w.size(0)\n",
    "    Y = torch.einsum('nd,n->nd', v, w / n)\n",
    "    A = torch.einsum('nd,nb->db', Y, v)\n",
    "    return A\n",
    "\n",
    "# Method 5 (direct einsum)\n",
    "def method_5(v, w):\n",
    "    A = torch.einsum('nd,n,nb->db', v, w, v)\n",
    "    return A\n",
    "\n",
    "sm0 = method_0(v, w)\n",
    "sm1 = method_1(v, w)\n",
    "sm2 = method_2(v, w)\n",
    "sm3 = method_3(v, w)\n",
    "sm4 = method_4(v, w) * n\n",
    "sm5 = method_5(v, w)\n",
    "\n",
    "# test if same result\n",
    "epsilon = 1e-6\n",
    "print(torch.allclose(sm0, sm1, atol=epsilon))\n",
    "print(torch.allclose(sm0, sm2, atol=epsilon))\n",
    "print(torch.allclose(sm0, sm3, atol=epsilon))\n",
    "print(torch.allclose(sm0, sm4, atol=epsilon))\n",
    "print(torch.allclose(sm0, sm5, atol=epsilon))\n",
    "print(torch.allclose(sm2, sm3, atol=epsilon))"
   ]
  },
  {
   "cell_type": "code",
   "execution_count": 33,
   "metadata": {},
   "outputs": [
    {
     "name": "stdout",
     "output_type": "stream",
     "text": [
      "Method 0: 32.39974782199715\n",
      "Method 1: 92.3654925370065\n",
      "Method 2: 0.316125652010669\n",
      "Method 3: 0.3198895480018109\n",
      "Method 4: 0.3250637330056634\n",
      "Method 5: 0.32300357600615826\n"
     ]
    }
   ],
   "source": [
    "# Benchmark\n",
    "n = 1000\n",
    "d = 1000\n",
    "v = torch.randn(n, d)\n",
    "w = torch.rand(n)\n",
    "\n",
    "time_0 = timeit.timeit('method_0(v, w)', globals=globals(), number=100)\n",
    "time_1 = timeit.timeit('method_1(v, w)', globals=globals(), number=100)\n",
    "time_2 = timeit.timeit('method_2(v, w)', globals=globals(), number=100)\n",
    "time_3 = timeit.timeit('method_3(v, w)', globals=globals(), number=100)\n",
    "time_4 = timeit.timeit('method_4(v, w)', globals=globals(), number=100)\n",
    "time_5 = timeit.timeit('method_5(v, w)', globals=globals(), number=100)\n",
    "\n",
    "print(f\"Method 0: {time_0}\")\n",
    "print(f\"Method 1: {time_1}\")\n",
    "print(f\"Method 2: {time_2}\")\n",
    "print(f\"Method 3: {time_3}\")\n",
    "print(f\"Method 4: {time_4}\")\n",
    "print(f\"Method 5: {time_5}\")\n",
    "\n"
   ]
  },
  {
   "cell_type": "markdown",
   "metadata": {},
   "source": [
    "## Test pytorch vs numpy speed on CPU"
   ]
  },
  {
   "cell_type": "code",
   "execution_count": 15,
   "metadata": {},
   "outputs": [
    {
     "name": "stdout",
     "output_type": "stream",
     "text": [
      "PyTorch time: 0.01648545265197754 seconds\n",
      "NumPy time: 0.016958236694335938 seconds\n"
     ]
    }
   ],
   "source": [
    "# Create random matrices\n",
    "matrix_size = 1000\n",
    "np_matrix1 = np.random.rand(matrix_size, matrix_size)\n",
    "np_matrix2 = np.random.rand(matrix_size, matrix_size)\n",
    "torch_matrix1 = torch.tensor(np_matrix1)\n",
    "torch_matrix2 = torch.tensor(np_matrix2)\n",
    "\n",
    "# PyTorch matrix multiplication\n",
    "start = time.time()\n",
    "torch_result = torch.matmul(torch_matrix1, torch_matrix2)\n",
    "end = time.time()\n",
    "print(f\"PyTorch time: {end - start} seconds\")\n",
    "\n",
    "# NumPy matrix multiplication\n",
    "start = time.time()\n",
    "np_result = np.matmul(np_matrix1, np_matrix2)\n",
    "end = time.time()\n",
    "print(f\"NumPy time: {end - start} seconds\")"
   ]
  },
  {
   "cell_type": "code",
   "execution_count": 18,
   "metadata": {},
   "outputs": [
    {
     "name": "stdout",
     "output_type": "stream",
     "text": [
      "Average time for NumPy matrix multiplication: 0.007726 seconds\n",
      "Average time for PyTorch matrix multiplication: 0.004296 seconds\n"
     ]
    }
   ],
   "source": [
    "matrix_size = 1000\n",
    "num_runs = 100\n",
    "\n",
    "# Create random matrices using NumPy\n",
    "np_matrix1 = np.random.rand(matrix_size, matrix_size)\n",
    "np_matrix2 = np.random.rand(matrix_size, matrix_size)\n",
    "\n",
    "# Convert NumPy matrices to PyTorch tensors\n",
    "torch_matrix1 = torch.tensor(np_matrix1, dtype=torch.float32)\n",
    "torch_matrix2 = torch.tensor(np_matrix2, dtype=torch.float32)\n",
    "\n",
    "# Define functions for matrix multiplication\n",
    "def numpy_multiplication():\n",
    "    res = np.matmul(np_matrix1, np_matrix2)\n",
    "    return res\n",
    "\n",
    "def torch_multiplication():\n",
    "    res = torch.matmul(torch_matrix1, torch_matrix2)\n",
    "    return res\n",
    "\n",
    "# Time NumPy matrix multiplication using timeit\n",
    "numpy_time = timeit.timeit(numpy_multiplication, number=num_runs) / num_runs\n",
    "print(f'Average time for NumPy matrix multiplication: {numpy_time:.6f} seconds')\n",
    "\n",
    "# Time PyTorch matrix multiplication using timeit\n",
    "torch_time = timeit.timeit(torch_multiplication, number=num_runs) / num_runs\n",
    "print(f'Average time for PyTorch matrix multiplication: {torch_time:.6f} seconds')"
   ]
  },
  {
   "cell_type": "code",
   "execution_count": null,
   "metadata": {},
   "outputs": [],
   "source": []
  }
 ],
 "metadata": {
  "kernelspec": {
   "display_name": "env",
   "language": "python",
   "name": "python3"
  },
  "language_info": {
   "codemirror_mode": {
    "name": "ipython",
    "version": 3
   },
   "file_extension": ".py",
   "mimetype": "text/x-python",
   "name": "python",
   "nbconvert_exporter": "python",
   "pygments_lexer": "ipython3",
   "version": "3.12.0"
  }
 },
 "nbformat": 4,
 "nbformat_minor": 2
}
