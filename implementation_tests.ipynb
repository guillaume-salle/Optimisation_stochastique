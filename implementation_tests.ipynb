{
 "cells": [
  {
   "cell_type": "code",
   "execution_count": 1,
   "metadata": {},
   "outputs": [],
   "source": [
    "import torch\n",
    "import numpy as np\n",
    "import time\n",
    "import timeit\n"
   ]
  },
  {
   "cell_type": "code",
   "execution_count": 8,
   "metadata": {},
   "outputs": [
    {
     "name": "stdout",
     "output_type": "stream",
     "text": [
      "Method 1: 0.05295457500005796\n",
      "Method 2: 0.04317028300010861\n",
      "Method 3: 0.06615527199983262\n",
      "Method 1: 0.040630676000091626\n",
      "Method 2: 0.04155634700009614\n",
      "Method 3: 0.06714793900027871\n"
     ]
    }
   ],
   "source": [
    "d = 200\n",
    "X = np.random.standard_normal(d)\n",
    "a = np.random.standard_normal(d)\n",
    "diff = X - a\n",
    "norm = np.linalg.norm(diff)\n",
    "\n",
    "def method_1(diff, norm):\n",
    "    diff_scaled = diff / norm ** 1.5\n",
    "    return np.outer(diff_scaled, diff_scaled)\n",
    "\n",
    "def method_2(diff, norm):\n",
    "    return np.outer(diff, diff / norm ** 3)\n",
    "\n",
    "def method_3(diff, norm):\n",
    "    return np.outer(diff, diff) / norm ** 3\n",
    "\n",
    "time_1 = timeit.timeit(lambda: method_1(diff, norm), number=1000)\n",
    "time_2 = timeit.timeit(lambda: method_2(diff, norm), number=1000)\n",
    "time_3 = timeit.timeit(lambda: method_3(diff, norm), number=1000)\n",
    "time_4 = timeit.timeit(lambda: method_1(diff, norm), number=1000)\n",
    "time_5 = timeit.timeit(lambda: method_2(diff, norm), number=1000)\n",
    "time_6 = timeit.timeit(lambda: method_3(diff, norm), number=1000)\n",
    "\n",
    "print(f\"Method 1: {time_1}\")\n",
    "print(f\"Method 2: {time_2}\")\n",
    "print(f\"Method 3: {time_3}\")\n",
    "print(f\"Method 1: {time_4}\")\n",
    "print(f\"Method 2: {time_5}\")\n",
    "print(f\"Method 3: {time_6}\")"
   ]
  },
  {
   "cell_type": "code",
   "execution_count": 50,
   "metadata": {},
   "outputs": [
    {
     "name": "stdout",
     "output_type": "stream",
     "text": [
      "True\n",
      "True\n",
      "True\n",
      "True\n",
      "True\n",
      "True\n",
      "True\n"
     ]
    }
   ],
   "source": [
    "n = 20  # Number of vectors\n",
    "d = 20  # Dimensionality of vectors\n",
    "v = torch.randn(n, d)\n",
    "w = torch.rand(n)\n",
    "\n",
    "\n",
    "# Method 0\n",
    "def method_0(v, w):\n",
    "    n, d = v.shape\n",
    "    A = torch.zeros(d, d)\n",
    "    for i in range(n):\n",
    "        add = w[i] * torch.outer(v[i], v[i])\n",
    "        A += add\n",
    "    return A\n",
    "\n",
    "\n",
    "# Method 1\n",
    "def method_1(v, w):\n",
    "    outerProds = torch.einsum(\"nd,nb->ndb\", v, v)\n",
    "    A = torch.einsum(\"ndb,n->db\", outerProds, w)\n",
    "    return A\n",
    "\n",
    "\n",
    "# Method 2\n",
    "def method_2(v, w):\n",
    "    vScaled = torch.einsum(\"nd,n->nd\", v, torch.sqrt(w))\n",
    "    A = torch.einsum(\"nd,nb->db\", vScaled, vScaled)\n",
    "    return A\n",
    "\n",
    "\n",
    "# Method 3\n",
    "def method_3(v, w):\n",
    "    Y = torch.einsum(\"nd,n->nd\", v, w)\n",
    "    A = torch.einsum(\"nd,nb->db\", Y, v)\n",
    "    return A / n\n",
    "\n",
    "\n",
    "# Method 4 (normalized)\n",
    "def method_4(v, w):\n",
    "    n = w.size(0)\n",
    "    Y = torch.einsum(\"nd,n->nd\", v, w / n)\n",
    "    A = torch.einsum(\"nd,nb->db\", Y, v)\n",
    "    return A\n",
    "\n",
    "\n",
    "# Method 5 (direct einsum)\n",
    "def method_5(v, w):\n",
    "    A = torch.einsum(\"nd,n,nb->db\", v, w, v)\n",
    "    return A / n\n",
    "\n",
    "\n",
    "# Method 6 (direct einsum normalized)\n",
    "def method_6(v, w):\n",
    "    A = torch.einsum(\"nd,n,nb->db\", v, w / n, v)\n",
    "    return A\n",
    "\n",
    "\n",
    "# Method 7 (matrix multiplication)\n",
    "def method_7(v, w):\n",
    "    Y = torch.matmul(torch.diag(w/n), v)\n",
    "    A = torch.matmul(Y.T, v)\n",
    "    return A\n",
    "\n",
    "\n",
    "sm0 = method_0(v, w)\n",
    "sm1 = method_1(v, w)\n",
    "sm2 = method_2(v, w)\n",
    "sm3 = method_3(v, w) * n\n",
    "sm4 = method_4(v, w) * n\n",
    "sm5 = method_5(v, w) * n\n",
    "sm6 = method_6(v, w) * n\n",
    "sm7 = method_7(v, w) * n\n",
    "\n",
    "# test if same result\n",
    "epsilon = 1e-6\n",
    "print(torch.allclose(sm0, sm1, atol=epsilon))\n",
    "print(torch.allclose(sm0, sm2, atol=epsilon))\n",
    "print(torch.allclose(sm0, sm3, atol=epsilon))\n",
    "print(torch.allclose(sm0, sm4, atol=epsilon))\n",
    "print(torch.allclose(sm0, sm5, atol=epsilon))\n",
    "print(torch.allclose(sm0, sm6, atol=epsilon))\n",
    "print(torch.allclose(sm0, sm7, atol=epsilon))"
   ]
  },
  {
   "cell_type": "code",
   "execution_count": 63,
   "metadata": {},
   "outputs": [
    {
     "name": "stdout",
     "output_type": "stream",
     "text": [
      "Method 1: 0.017966649000300094\n",
      "Method 2: 0.01636508999945363\n",
      "Method 3: 0.01826516199798789\n",
      "Method 4: 0.01874012700136518\n",
      "Method 5: 0.016985008005576674\n",
      "Method 6: 0.016278536997560877\n",
      "Method 7: 0.010616023006150499\n"
     ]
    }
   ],
   "source": [
    "# Benchmark\n",
    "n = 20\n",
    "d = 20\n",
    "v = torch.randn(n, d)\n",
    "w = torch.rand(n)\n",
    "\n",
    "# time_0 = timeit.timeit('method_0(v, w)', globals=globals(), number=1000)\n",
    "time_1 = timeit.timeit('method_1(v, w)', globals=globals(), number=1000)\n",
    "time_2 = timeit.timeit('method_2(v, w)', globals=globals(), number=1000)\n",
    "time_3 = timeit.timeit('method_3(v, w)', globals=globals(), number=1000)\n",
    "time_4 = timeit.timeit('method_4(v, w)', globals=globals(), number=1000)\n",
    "time_5 = timeit.timeit('method_5(v, w)', globals=globals(), number=1000)\n",
    "time_6 = timeit.timeit('method_6(v, w)', globals=globals(), number=1000)\n",
    "time_7 = timeit.timeit('method_7(v, w)', globals=globals(), number=1000)\n",
    "\n",
    "# print(f\"Method 0: {time_0}\")\n",
    "print(f\"Method 1: {time_1}\")\n",
    "print(f\"Method 2: {time_2}\")\n",
    "print(f\"Method 3: {time_3}\")\n",
    "print(f\"Method 4: {time_4}\")\n",
    "print(f\"Method 5: {time_5}\")\n",
    "print(f\"Method 6: {time_6}\")\n",
    "print(f\"Method 7: {time_7}\")\n",
    "\n"
   ]
  },
  {
   "cell_type": "code",
   "execution_count": 66,
   "metadata": {},
   "outputs": [
    {
     "name": "stdout",
     "output_type": "stream",
     "text": [
      "Time for np.einsum with division outside: 0.014524 seconds\n",
      "Time for np.einsum with division inside: 0.006842 seconds\n"
     ]
    }
   ],
   "source": [
    "import numpy as np\n",
    "import timeit\n",
    "\n",
    "# Create a random matrix X\n",
    "n = 10\n",
    "d = 10\n",
    "X = np.random.standard_normal((n, d))\n",
    "\n",
    "# Function to compute covariance matrix using np.einsum with division outside\n",
    "def einsum_method_1(X, n):\n",
    "    return np.einsum(\"ni,nj->ij\", X, X) / n\n",
    "\n",
    "# Function to compute covariance matrix using np.einsum with division inside\n",
    "def einsum_method_2(X, n):\n",
    "    return np.einsum(\"ni,nj->ij\", X / n, X)\n",
    "\n",
    "# Test for np.einsum with division outside\n",
    "time_einsum_1 = timeit.timeit('einsum_method_1(X, n)', globals=globals(), number=1000)\n",
    "\n",
    "# Test for np.einsum with division inside\n",
    "time_einsum_2 = timeit.timeit('einsum_method_2(X, n)', globals=globals(), number=1000)\n",
    "\n",
    "print(f\"Time for np.einsum with division outside: {time_einsum_1:.6f} seconds\")\n",
    "print(f\"Time for np.einsum with division inside: {time_einsum_2:.6f} seconds\")\n"
   ]
  },
  {
   "cell_type": "markdown",
   "metadata": {},
   "source": [
    "## Test pytorch vs numpy speed on CPU"
   ]
  },
  {
   "cell_type": "code",
   "execution_count": 15,
   "metadata": {},
   "outputs": [
    {
     "name": "stdout",
     "output_type": "stream",
     "text": [
      "PyTorch time: 0.01648545265197754 seconds\n",
      "NumPy time: 0.016958236694335938 seconds\n"
     ]
    }
   ],
   "source": [
    "# Create random matrices\n",
    "matrix_size = 1000\n",
    "np_matrix1 = np.random.standard_normal(matrix_size, matrix_size)\n",
    "np_matrix2 = np.random.standard_normal(matrix_size, matrix_size)\n",
    "torch_matrix1 = torch.tensor(np_matrix1)\n",
    "torch_matrix2 = torch.tensor(np_matrix2)\n",
    "\n",
    "# PyTorch matrix multiplication\n",
    "start = time.time()\n",
    "torch_result = torch.matmul(torch_matrix1, torch_matrix2)\n",
    "end = time.time()\n",
    "print(f\"PyTorch time: {end - start} seconds\")\n",
    "\n",
    "# NumPy matrix multiplication\n",
    "start = time.time()\n",
    "np_result = np.matmul(np_matrix1, np_matrix2)\n",
    "end = time.time()\n",
    "print(f\"NumPy time: {end - start} seconds\")"
   ]
  },
  {
   "cell_type": "code",
   "execution_count": 18,
   "metadata": {},
   "outputs": [
    {
     "name": "stdout",
     "output_type": "stream",
     "text": [
      "Average time for NumPy matrix multiplication: 0.007726 seconds\n",
      "Average time for PyTorch matrix multiplication: 0.004296 seconds\n"
     ]
    }
   ],
   "source": [
    "matrix_size = 1000\n",
    "num_runs = 100\n",
    "\n",
    "# Create random matrices using NumPy\n",
    "np_matrix1 = np.random.standard_normal(matrix_size, matrix_size)\n",
    "np_matrix2 = np.random.standard_normal(matrix_size, matrix_size)\n",
    "\n",
    "# Convert NumPy matrices to PyTorch tensors\n",
    "torch_matrix1 = torch.tensor(np_matrix1, dtype=torch.float64)\n",
    "torch_matrix2 = torch.tensor(np_matrix2, dtype=torch.float64)\n",
    "\n",
    "# Define functions for matrix multiplication\n",
    "def numpy_multiplication():\n",
    "    res = np.matmul(np_matrix1, np_matrix2)\n",
    "    return res\n",
    "\n",
    "def torch_multiplication():\n",
    "    res = torch.matmul(torch_matrix1, torch_matrix2)\n",
    "    return res\n",
    "\n",
    "# Time NumPy matrix multiplication using timeit\n",
    "numpy_time = timeit.timeit(numpy_multiplication, number=num_runs) / num_runs\n",
    "print(f'Average time for NumPy matrix multiplication: {numpy_time:.6f} seconds')\n",
    "\n",
    "# Time PyTorch matrix multiplication using timeit\n",
    "torch_time = timeit.timeit(torch_multiplication, number=num_runs) / num_runs\n",
    "print(f'Average time for PyTorch matrix multiplication: {torch_time:.6f} seconds')"
   ]
  },
  {
   "cell_type": "code",
   "execution_count": 23,
   "metadata": {},
   "outputs": [],
   "source": [
    "import numpy as np\n",
    "import torch\n",
    "import timeit\n",
    "import time\n",
    "\n",
    "def sigmoid_where(z: np.ndarray) -> np.ndarray:\n",
    "    \"\"\"\n",
    "    Numerically stable sigmoid function using np.where.\n",
    "\n",
    "    Parameters:\n",
    "    z (np.ndarray): Input array.\n",
    "\n",
    "    Returns:\n",
    "    np.ndarray: Sigmoid of input array.\n",
    "    \"\"\"\n",
    "    return np.where(\n",
    "        z >= 0,\n",
    "        1 / (1 + np.exp(-z)),\n",
    "        np.exp(z) / (1 + np.exp(z))\n",
    "    )\n",
    "\n",
    "def sigmoid_mask(z: np.ndarray) -> np.ndarray:\n",
    "    \"\"\"\n",
    "    Numerically stable sigmoid function using explicit masking.\n",
    "\n",
    "    Parameters:\n",
    "    z (np.ndarray): Input array.\n",
    "\n",
    "    Returns:\n",
    "    np.ndarray: Sigmoid of input array.\n",
    "    \"\"\"\n",
    "    result = np.zeros_like(z, dtype=np.float64)\n",
    "    pos_mask = z >= 0\n",
    "    neg_mask = ~pos_mask\n",
    "    result[pos_mask] = 1 / (1 + np.exp(-z[pos_mask]))\n",
    "    result[neg_mask] = np.exp(z[neg_mask]) / (1 + np.exp(z[neg_mask]))\n",
    "    return result\n",
    "\n",
    "def sigmoid_torch(z: np.ndarray) -> np.ndarray:\n",
    "    \"\"\"\n",
    "    Numerically stable sigmoid function using PyTorch.\n",
    "\n",
    "    Parameters:\n",
    "    z (np.ndarray): Input array.\n",
    "\n",
    "    Returns:\n",
    "    np.ndarray: Sigmoid of input array.\n",
    "    \"\"\"\n",
    "    return torch.sigmoid(torch.as_tensor(z)).numpy()"
   ]
  },
  {
   "cell_type": "code",
   "execution_count": 32,
   "metadata": {},
   "outputs": [
    {
     "name": "stderr",
     "output_type": "stream",
     "text": [
      "/tmp/ipykernel_23633/4031661619.py:16: RuntimeWarning: overflow encountered in exp\n",
      "  1 / (1 + np.exp(-z)),\n"
     ]
    },
    {
     "name": "stdout",
     "output_type": "stream",
     "text": [
      "Average time for sigmoid_where: 0.008931 seconds\n",
      "Average time for sigmoid_mask: 0.011018 seconds\n",
      "Average time for sigmoid_torch: 0.003700 seconds\n"
     ]
    }
   ],
   "source": [
    "# Define input array\n",
    "z = np.random.standard_normal(10) * 1000\n",
    "\n",
    "# Time sigmoid_where using timeit\n",
    "time_where = timeit.timeit(lambda: sigmoid_where(z), number=1000)\n",
    "print(f'Average time for sigmoid_where: {time_where:.6f} seconds')\n",
    "\n",
    "time.sleep(1)\n",
    "\n",
    "# Time sigmoid_mask using timeit\n",
    "time_mask = timeit.timeit(lambda: sigmoid_mask(z), number=1000)\n",
    "print(f'Average time for sigmoid_mask: {time_mask:.6f} seconds')\n",
    "\n",
    "time.sleep(1)\n",
    "\n",
    "# Time sigmoid_torch using timeit\n",
    "time_torch = timeit.timeit(lambda: sigmoid_torch(z), number=1000)\n",
    "print(f'Average time for sigmoid_torch: {time_torch:.6f} seconds')\n"
   ]
  },
  {
   "cell_type": "markdown",
   "metadata": {},
   "source": [
    "# USNA : np.dot VS np.linalg.norm"
   ]
  },
  {
   "cell_type": "code",
   "execution_count": null,
   "metadata": {},
   "outputs": [],
   "source": [
    "import numpy as np\n",
    "import timeit\n",
    "\n",
    "# Generate random vectors Q and Z of size n\n",
    "n = 1000  # Example vector size\n",
    "Q = np.random.standard_normal(n)\n",
    "Z = np.random.standard_normal(n)\n",
    "\n",
    "# Define the functions to measure\n",
    "def dot_product_approach():\n",
    "    def step(iteration):\n",
    "        gamma = 1 / iteration\n",
    "        beta = 1 / (2 * gamma)\n",
    "        return np.dot(Q, Q) <= beta**2\n",
    "\n",
    "    for i in range(10_000, 100_000):\n",
    "        res = step(i)\n",
    "\n",
    "    return res\n",
    "\n",
    "\n",
    "def norm_approach():\n",
    "    def step(iteration):\n",
    "        gamma = 1 / iteration\n",
    "        beta = 1 / (2 * gamma)\n",
    "        return np.linalg.norm(Q) <= beta\n",
    "\n",
    "    for i in range(10_000, 100_000):\n",
    "        res = step(i)\n",
    "\n",
    "    return res\n",
    "\n",
    "\n",
    "# Measure execution time\n",
    "dot_time = timeit.timeit(dot_product_approach, number=10)\n",
    "norm_time = timeit.timeit(norm_approach, number=10)\n",
    "\n",
    "print(\"Time using np.dot for squared magnitude: {:.6f} seconds\".format(dot_time))\n",
    "print(\n",
    "    \"Time using np.linalg.norm for squared magnitude: {:.6f} seconds\".format(norm_time)\n",
    ")"
   ]
  },
  {
   "cell_type": "markdown",
   "metadata": {},
   "source": [
    "# Test if $\\Sigma$ is positive definite"
   ]
  },
  {
   "cell_type": "code",
   "execution_count": null,
   "metadata": {},
   "outputs": [],
   "source": [
    "import numpy as np\n",
    "\n",
    "d = 10\n",
    "covariance_matrix_article = np.zeros((d, d))\n",
    "\n",
    "for i in range(d):\n",
    "    for j in range(d):\n",
    "        covariance_matrix_article[i, j] = abs(i - j) ** 0.5\n",
    "\n",
    "eigenvalues_article, eigenvectors_article = np.linalg.eigh(covariance_matrix_article)\n",
    "\n",
    "print(\"Eigenvalues article:\", eigenvalues_article, \"\\n\")"
   ]
  },
  {
   "cell_type": "code",
   "execution_count": 1,
   "metadata": {},
   "outputs": [
    {
     "name": "stdout",
     "output_type": "stream",
     "text": [
      "random.randint took: 0.3966467760001251 seconds for 1000000 iterations\n",
      "np.random.randint took: 1.445265570000629 seconds for 1000000 iterations\n"
     ]
    }
   ],
   "source": [
    "import random\n",
    "import numpy as np\n",
    "import timeit\n",
    "\n",
    "# Define the number of iterations\n",
    "iterations = 1000000\n",
    "\n",
    "# Timing random.randint\n",
    "time_random = timeit.timeit('random.randint(1, 100)', setup='import random', number=iterations)\n",
    "\n",
    "# Timing numpy.random.randint\n",
    "time_np_random = timeit.timeit('np.random.randint(1, 101)', setup='import numpy as np', number=iterations)\n",
    "\n",
    "print(f\"random.randint took: {time_random} seconds for {iterations} iterations\")\n",
    "print(f\"np.random.randint took: {time_np_random} seconds for {iterations} iterations\")\n"
   ]
  },
  {
   "cell_type": "markdown",
   "metadata": {},
   "source": [
    "## Test device check speed"
   ]
  },
  {
   "cell_type": "code",
   "execution_count": 2,
   "metadata": {},
   "outputs": [
    {
     "name": "stdout",
     "output_type": "stream",
     "text": [
      "Time with device check inside function: 2.877647 seconds\n",
      "Time with device specified as argument: 2.779994 seconds\n"
     ]
    }
   ],
   "source": [
    "import torch\n",
    "import timeit\n",
    "from typing import Union\n",
    "\n",
    "# Function that checks the device inside the function\n",
    "def concatenate_with_bias_check_inside(tensor: torch.Tensor) -> torch.Tensor:\n",
    "    bias = torch.tensor([1.0], device=tensor.device)\n",
    "    return torch.cat((bias, tensor))\n",
    "\n",
    "# Function that takes the device as an argument\n",
    "def concatenate_with_bias_with_device(tensor: torch.Tensor, device: Union[str, torch.device]) -> torch.Tensor:\n",
    "    bias = torch.tensor([1.0], device=device)\n",
    "    return torch.cat((bias, tensor))\n",
    "\n",
    "# Example tensors on CPU\n",
    "tensor_cpu = torch.tensor([1.0, 2.0, 3.0])\n",
    "device = torch.device('cpu')\n",
    "\n",
    "# Test for the function that checks the device inside\n",
    "time_check_inside = timeit.timeit(\n",
    "    'concatenate_with_bias_check_inside(tensor_cpu)',\n",
    "    globals=globals(),\n",
    "    number=1000000\n",
    ")\n",
    "\n",
    "# Test for the function that takes the device as an argument\n",
    "time_with_device = timeit.timeit(\n",
    "    'concatenate_with_bias_with_device(tensor_cpu, device)',\n",
    "    globals=globals(),\n",
    "    number=1000000\n",
    ")\n",
    "\n",
    "print(f\"Time with device check inside function: {time_check_inside:.6f} seconds\")\n",
    "print(f\"Time with device specified as argument: {time_with_device:.6f} seconds\")\n"
   ]
  },
  {
   "cell_type": "markdown",
   "metadata": {},
   "source": [
    "## torch matmul vs einsum"
   ]
  },
  {
   "cell_type": "code",
   "execution_count": 10,
   "metadata": {},
   "outputs": [
    {
     "name": "stdout",
     "output_type": "stream",
     "text": [
      "Time for torch.matmul: 0.372188 seconds\n",
      "Time for torch.einsum: 1.164216 seconds\n"
     ]
    }
   ],
   "source": [
    "import torch\n",
    "import timeit\n",
    "\n",
    "d = 100\n",
    "# Create a random matrix and a 1D vector\n",
    "matrix = torch.randn(d, d)\n",
    "vector = torch.randn(d)\n",
    "\n",
    "# Function to perform matrix multiplication using torch.matmul\n",
    "def matmul_method(matrix, vector):\n",
    "    return torch.matmul(matrix, vector)\n",
    "\n",
    "# Function to perform matrix multiplication using torch.einsum\n",
    "def einsum_method(matrix, vector):\n",
    "    return torch.einsum('ij,j->i', matrix, vector)\n",
    "\n",
    "# Test for torch.matmul\n",
    "time_matmul = timeit.timeit('matmul_method(matrix, vector)', globals=globals(), number=100000)\n",
    "\n",
    "# Test for torch.einsum\n",
    "time_einsum = timeit.timeit('einsum_method(matrix, vector)', globals=globals(), number=100000)\n",
    "\n",
    "print(f\"Time for torch.matmul: {time_matmul:.6f} seconds\")\n",
    "print(f\"Time for torch.einsum: {time_einsum:.6f} seconds\")\n"
   ]
  },
  {
   "cell_type": "markdown",
   "metadata": {},
   "source": [
    "## np.matmul vs np.dot for matrix vector multiplication"
   ]
  },
  {
   "cell_type": "code",
   "execution_count": 38,
   "metadata": {},
   "outputs": [
    {
     "name": "stdout",
     "output_type": "stream",
     "text": [
      "Time for np.matmul: 0.579552 seconds\n",
      "Time for np.dot: 0.340912 seconds\n"
     ]
    }
   ],
   "source": [
    "import numpy as np\n",
    "import timeit\n",
    "\n",
    "# Create a random matrix and a 1D vector\n",
    "matrix = np.random.standard_normal(100, 100)\n",
    "vector = np.random.standoard_normal(100)\n",
    "\n",
    "# Function to perform matrix multiplication using np.matmul\n",
    "def matmul_method(matrix, vector):\n",
    "    return np.matmul(vector, matrix)\n",
    "\n",
    "# Function to perform matrix multiplication using np.dot\n",
    "def dot_method(matrix, vector):\n",
    "    return np.dot(matrix.T, vector)\n",
    "\n",
    "# Test for np.matmul\n",
    "time_matmul = timeit.timeit('matmul_method(matrix, vector)', globals=globals(), number=10000)\n",
    "\n",
    "# Test for np.dot\n",
    "time_dot = timeit.timeit('dot_method(matrix, vector)', globals=globals(), number=10000)\n",
    "\n",
    "print(f\"Time for np.matmul: {time_matmul:.6f} seconds\")\n",
    "print(f\"Time for np.dot: {time_dot:.6f} seconds\")\n"
   ]
  },
  {
   "cell_type": "code",
   "execution_count": 68,
   "metadata": {},
   "outputs": [
    {
     "name": "stdout",
     "output_type": "stream",
     "text": [
      "Time for torch.sqrt: 2.002920 seconds\n",
      "Time for math.sqrt: 0.038339 seconds\n",
      "Time for numpy.sqrt: 0.377096 seconds\n"
     ]
    }
   ],
   "source": [
    "import torch\n",
    "import numpy\n",
    "import math\n",
    "import timeit\n",
    "\n",
    "# Define a single float\n",
    "x = 12345.6789\n",
    "\n",
    "# Function to compute sqrt using torch.sqrt\n",
    "def torch_sqrt_method(x):\n",
    "    return torch.sqrt(torch.tensor(x))\n",
    "\n",
    "# Function to compute sqrt using math.sqrt\n",
    "def math_sqrt_method(x):\n",
    "    return math.sqrt(x)\n",
    "\n",
    "# Function to compute sqrt using numpy.sqrt\n",
    "def numpy_sqrt_method(x):\n",
    "    return numpy.sqrt(x)\n",
    "\n",
    "# Test for torch.sqrt\n",
    "time_torch_sqrt = timeit.timeit('torch_sqrt_method(x)', globals=globals(), number=1000000)\n",
    "\n",
    "# Test for math.sqrt\n",
    "time_math_sqrt = timeit.timeit('math_sqrt_method(x)', globals=globals(), number=1000000)\n",
    "\n",
    "# Test for numpy.sqrt\n",
    "time_numpy_sqrt = timeit.timeit('numpy_sqrt_method(x)', globals=globals(), number=1000000)\n",
    "\n",
    "print(f\"Time for torch.sqrt: {time_torch_sqrt:.6f} seconds\")\n",
    "print(f\"Time for math.sqrt: {time_math_sqrt:.6f} seconds\")\n",
    "print(f\"Time for numpy.sqrt: {time_numpy_sqrt:.6f} seconds\")\n"
   ]
  },
  {
   "cell_type": "code",
   "execution_count": 72,
   "metadata": {},
   "outputs": [
    {
     "name": "stdout",
     "output_type": "stream",
     "text": [
      "Time for torch.exp: 2.657747 seconds\n",
      "Time for math.exp: 0.041092 seconds\n",
      "Time for numpy.exp: 0.393934 seconds\n"
     ]
    }
   ],
   "source": [
    "import torch\n",
    "import math\n",
    "import numpy as np\n",
    "import timeit\n",
    "\n",
    "# Define a single float\n",
    "x = 5.6789\n",
    "\n",
    "# Function to compute exp using torch.exp\n",
    "def torch_exp_method(x):\n",
    "    return torch.exp(torch.tensor(x))\n",
    "\n",
    "# Function to compute exp using math.exp\n",
    "def math_exp_method(x):\n",
    "    return math.exp(x)\n",
    "\n",
    "# Function to compute exp using numpy.exp\n",
    "def numpy_exp_method(x):\n",
    "    return np.exp(x)\n",
    "\n",
    "# Test for torch.exp\n",
    "time_torch_exp = timeit.timeit('torch_exp_method(x)', globals=globals(), number=1000000)\n",
    "\n",
    "# Test for math.exp\n",
    "time_math_exp = timeit.timeit('math_exp_method(x)', globals=globals(), number=1000000)\n",
    "\n",
    "# Test for numpy.exp\n",
    "time_numpy_exp = timeit.timeit('numpy_exp_method(x)', globals=globals(), number=1000000)\n",
    "\n",
    "print(f\"Time for torch.exp: {time_torch_exp:.6f} seconds\")\n",
    "print(f\"Time for math.exp: {time_math_exp:.6f} seconds\")\n",
    "print(f\"Time for numpy.exp: {time_numpy_exp:.6f} seconds\")\n"
   ]
  },
  {
   "cell_type": "code",
   "execution_count": null,
   "metadata": {},
   "outputs": [],
   "source": []
  }
 ],
 "metadata": {
  "kernelspec": {
   "display_name": "env",
   "language": "python",
   "name": "python3"
  },
  "language_info": {
   "codemirror_mode": {
    "name": "ipython",
    "version": 3
   },
   "file_extension": ".py",
   "mimetype": "text/x-python",
   "name": "python",
   "nbconvert_exporter": "python",
   "pygments_lexer": "ipython3",
   "version": "3.12.0"
  }
 },
 "nbformat": 4,
 "nbformat_minor": 2
}
