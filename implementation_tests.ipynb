{
 "cells": [
  {
   "cell_type": "code",
   "execution_count": 5,
   "metadata": {},
   "outputs": [],
   "source": [
    "import torch\n",
    "import numpy as np\n",
    "import time\n",
    "import timeit\n"
   ]
  },
  {
   "cell_type": "code",
   "execution_count": 32,
   "metadata": {},
   "outputs": [
    {
     "name": "stdout",
     "output_type": "stream",
     "text": [
      "True\n",
      "True\n",
      "True\n",
      "True\n",
      "True\n",
      "True\n"
     ]
    }
   ],
   "source": [
    "n = 20 # Number of vectors\n",
    "d = 20  # Dimensionality of vectors\n",
    "v = torch.randn(n, d)\n",
    "w = torch.rand(n)\n",
    "\n",
    "# Method 0\n",
    "def method_0(v, w):\n",
    "    n, d = v.shape\n",
    "    A = torch.zeros(d, d)\n",
    "    for i in range(n):\n",
    "        add = w[i] * torch.outer(v[i], v[i])\n",
    "        A += add\n",
    "    return A\n",
    "\n",
    "\n",
    "# Method 1\n",
    "def method_1(v, w):\n",
    "    outerProds = torch.einsum('nd,nb->ndb', v, v)\n",
    "    A = torch.einsum('ndb,n->db', outerProds, w)\n",
    "    return A\n",
    "\n",
    "# Method 2\n",
    "def method_2(v, w):\n",
    "    vScaled = torch.einsum('nd,n->nd', v, torch.sqrt(w))\n",
    "    A = torch.einsum('nd,nb->db', vScaled, vScaled)\n",
    "    return A\n",
    "\n",
    "# Method 3\n",
    "def method_3(v, w):\n",
    "    Y = torch.einsum('nd,n->nd', v, w)\n",
    "    A = torch.einsum('nd,nb->db', Y, v)\n",
    "    return A\n",
    "\n",
    "# Method 4 (normalized)\n",
    "def method_4(v, w):\n",
    "    n = w.size(0)\n",
    "    Y = torch.einsum('nd,n->nd', v, w / n)\n",
    "    A = torch.einsum('nd,nb->db', Y, v)\n",
    "    return A\n",
    "\n",
    "# Method 5 (direct einsum)\n",
    "def method_5(v, w):\n",
    "    A = torch.einsum('nd,n,nb->db', v, w, v)\n",
    "    return A\n",
    "\n",
    "sm0 = method_0(v, w)\n",
    "sm1 = method_1(v, w)\n",
    "sm2 = method_2(v, w)\n",
    "sm3 = method_3(v, w)\n",
    "sm4 = method_4(v, w) * n\n",
    "sm5 = method_5(v, w)\n",
    "\n",
    "# test if same result\n",
    "epsilon = 1e-6\n",
    "print(torch.allclose(sm0, sm1, atol=epsilon))\n",
    "print(torch.allclose(sm0, sm2, atol=epsilon))\n",
    "print(torch.allclose(sm0, sm3, atol=epsilon))\n",
    "print(torch.allclose(sm0, sm4, atol=epsilon))\n",
    "print(torch.allclose(sm0, sm5, atol=epsilon))\n",
    "print(torch.allclose(sm2, sm3, atol=epsilon))"
   ]
  },
  {
   "cell_type": "code",
   "execution_count": 33,
   "metadata": {},
   "outputs": [
    {
     "name": "stdout",
     "output_type": "stream",
     "text": [
      "Method 0: 32.39974782199715\n",
      "Method 1: 92.3654925370065\n",
      "Method 2: 0.316125652010669\n",
      "Method 3: 0.3198895480018109\n",
      "Method 4: 0.3250637330056634\n",
      "Method 5: 0.32300357600615826\n"
     ]
    }
   ],
   "source": [
    "# Benchmark\n",
    "n = 1000\n",
    "d = 1000\n",
    "v = torch.randn(n, d)\n",
    "w = torch.rand(n)\n",
    "\n",
    "time_0 = timeit.timeit('method_0(v, w)', globals=globals(), number=100)\n",
    "time_1 = timeit.timeit('method_1(v, w)', globals=globals(), number=100)\n",
    "time_2 = timeit.timeit('method_2(v, w)', globals=globals(), number=100)\n",
    "time_3 = timeit.timeit('method_3(v, w)', globals=globals(), number=100)\n",
    "time_4 = timeit.timeit('method_4(v, w)', globals=globals(), number=100)\n",
    "time_5 = timeit.timeit('method_5(v, w)', globals=globals(), number=100)\n",
    "\n",
    "print(f\"Method 0: {time_0}\")\n",
    "print(f\"Method 1: {time_1}\")\n",
    "print(f\"Method 2: {time_2}\")\n",
    "print(f\"Method 3: {time_3}\")\n",
    "print(f\"Method 4: {time_4}\")\n",
    "print(f\"Method 5: {time_5}\")\n",
    "\n"
   ]
  },
  {
   "cell_type": "markdown",
   "metadata": {},
   "source": [
    "## Test pytorch vs numpy speed on CPU"
   ]
  },
  {
   "cell_type": "code",
   "execution_count": 15,
   "metadata": {},
   "outputs": [
    {
     "name": "stdout",
     "output_type": "stream",
     "text": [
      "PyTorch time: 0.01648545265197754 seconds\n",
      "NumPy time: 0.016958236694335938 seconds\n"
     ]
    }
   ],
   "source": [
    "# Create random matrices\n",
    "matrix_size = 1000\n",
    "np_matrix1 = np.random.rand(matrix_size, matrix_size)\n",
    "np_matrix2 = np.random.rand(matrix_size, matrix_size)\n",
    "torch_matrix1 = torch.tensor(np_matrix1)\n",
    "torch_matrix2 = torch.tensor(np_matrix2)\n",
    "\n",
    "# PyTorch matrix multiplication\n",
    "start = time.time()\n",
    "torch_result = torch.matmul(torch_matrix1, torch_matrix2)\n",
    "end = time.time()\n",
    "print(f\"PyTorch time: {end - start} seconds\")\n",
    "\n",
    "# NumPy matrix multiplication\n",
    "start = time.time()\n",
    "np_result = np.matmul(np_matrix1, np_matrix2)\n",
    "end = time.time()\n",
    "print(f\"NumPy time: {end - start} seconds\")"
   ]
  },
  {
   "cell_type": "code",
   "execution_count": 18,
   "metadata": {},
   "outputs": [
    {
     "name": "stdout",
     "output_type": "stream",
     "text": [
      "Average time for NumPy matrix multiplication: 0.007726 seconds\n",
      "Average time for PyTorch matrix multiplication: 0.004296 seconds\n"
     ]
    }
   ],
   "source": [
    "matrix_size = 1000\n",
    "num_runs = 100\n",
    "\n",
    "# Create random matrices using NumPy\n",
    "np_matrix1 = np.random.rand(matrix_size, matrix_size)\n",
    "np_matrix2 = np.random.rand(matrix_size, matrix_size)\n",
    "\n",
    "# Convert NumPy matrices to PyTorch tensors\n",
    "torch_matrix1 = torch.tensor(np_matrix1, dtype=torch.float32)\n",
    "torch_matrix2 = torch.tensor(np_matrix2, dtype=torch.float32)\n",
    "\n",
    "# Define functions for matrix multiplication\n",
    "def numpy_multiplication():\n",
    "    res = np.matmul(np_matrix1, np_matrix2)\n",
    "    return res\n",
    "\n",
    "def torch_multiplication():\n",
    "    res = torch.matmul(torch_matrix1, torch_matrix2)\n",
    "    return res\n",
    "\n",
    "# Time NumPy matrix multiplication using timeit\n",
    "numpy_time = timeit.timeit(numpy_multiplication, number=num_runs) / num_runs\n",
    "print(f'Average time for NumPy matrix multiplication: {numpy_time:.6f} seconds')\n",
    "\n",
    "# Time PyTorch matrix multiplication using timeit\n",
    "torch_time = timeit.timeit(torch_multiplication, number=num_runs) / num_runs\n",
    "print(f'Average time for PyTorch matrix multiplication: {torch_time:.6f} seconds')"
   ]
  },
  {
   "cell_type": "code",
   "execution_count": 23,
   "metadata": {},
   "outputs": [],
   "source": [
    "import numpy as np\n",
    "import torch\n",
    "import timeit\n",
    "import time\n",
    "\n",
    "def sigmoid_where(z: np.ndarray) -> np.ndarray:\n",
    "    \"\"\"\n",
    "    Numerically stable sigmoid function using np.where.\n",
    "\n",
    "    Parameters:\n",
    "    z (np.ndarray): Input array.\n",
    "\n",
    "    Returns:\n",
    "    np.ndarray: Sigmoid of input array.\n",
    "    \"\"\"\n",
    "    return np.where(\n",
    "        z >= 0,\n",
    "        1 / (1 + np.exp(-z)),\n",
    "        np.exp(z) / (1 + np.exp(z))\n",
    "    )\n",
    "\n",
    "def sigmoid_mask(z: np.ndarray) -> np.ndarray:\n",
    "    \"\"\"\n",
    "    Numerically stable sigmoid function using explicit masking.\n",
    "\n",
    "    Parameters:\n",
    "    z (np.ndarray): Input array.\n",
    "\n",
    "    Returns:\n",
    "    np.ndarray: Sigmoid of input array.\n",
    "    \"\"\"\n",
    "    result = np.zeros_like(z, dtype=np.float64)\n",
    "    pos_mask = z >= 0\n",
    "    neg_mask = ~pos_mask\n",
    "    result[pos_mask] = 1 / (1 + np.exp(-z[pos_mask]))\n",
    "    result[neg_mask] = np.exp(z[neg_mask]) / (1 + np.exp(z[neg_mask]))\n",
    "    return result\n",
    "\n",
    "def sigmoid_torch(z: np.ndarray) -> np.ndarray:\n",
    "    \"\"\"\n",
    "    Numerically stable sigmoid function using PyTorch.\n",
    "\n",
    "    Parameters:\n",
    "    z (np.ndarray): Input array.\n",
    "\n",
    "    Returns:\n",
    "    np.ndarray: Sigmoid of input array.\n",
    "    \"\"\"\n",
    "    return torch.sigmoid(torch.as_tensor(z)).numpy()"
   ]
  },
  {
   "cell_type": "code",
   "execution_count": 32,
   "metadata": {},
   "outputs": [
    {
     "name": "stderr",
     "output_type": "stream",
     "text": [
      "/tmp/ipykernel_23633/4031661619.py:16: RuntimeWarning: overflow encountered in exp\n",
      "  1 / (1 + np.exp(-z)),\n"
     ]
    },
    {
     "name": "stdout",
     "output_type": "stream",
     "text": [
      "Average time for sigmoid_where: 0.008931 seconds\n",
      "Average time for sigmoid_mask: 0.011018 seconds\n",
      "Average time for sigmoid_torch: 0.003700 seconds\n"
     ]
    }
   ],
   "source": [
    "# Define input array\n",
    "z = np.random.randn(10) * 1000\n",
    "\n",
    "# Time sigmoid_where using timeit\n",
    "time_where = timeit.timeit(lambda: sigmoid_where(z), number=1000)\n",
    "print(f'Average time for sigmoid_where: {time_where:.6f} seconds')\n",
    "\n",
    "time.sleep(1)\n",
    "\n",
    "# Time sigmoid_mask using timeit\n",
    "time_mask = timeit.timeit(lambda: sigmoid_mask(z), number=1000)\n",
    "print(f'Average time for sigmoid_mask: {time_mask:.6f} seconds')\n",
    "\n",
    "time.sleep(1)\n",
    "\n",
    "# Time sigmoid_torch using timeit\n",
    "time_torch = timeit.timeit(lambda: sigmoid_torch(z), number=1000)\n",
    "print(f'Average time for sigmoid_torch: {time_torch:.6f} seconds')\n"
   ]
  },
  {
   "cell_type": "markdown",
   "metadata": {},
   "source": [
    "# USNA : np.dot VS np.linalg.norm"
   ]
  },
  {
   "cell_type": "code",
   "execution_count": null,
   "metadata": {},
   "outputs": [],
   "source": [
    "import numpy as np\n",
    "import timeit\n",
    "\n",
    "# Generate random vectors Q and Z of size n\n",
    "n = 1000  # Example vector size\n",
    "Q = np.random.rand(n)\n",
    "Z = np.random.rand(n)\n",
    "\n",
    "# Define the functions to measure\n",
    "def dot_product_approach():\n",
    "    def step(iteration):\n",
    "        gamma = 1 / iteration\n",
    "        beta = 1 / (2 * gamma)\n",
    "        return np.dot(Q, Q) <= beta**2\n",
    "\n",
    "    for i in range(10_000, 100_000):\n",
    "        res = step(i)\n",
    "\n",
    "    return res\n",
    "\n",
    "\n",
    "def norm_approach():\n",
    "    def step(iteration):\n",
    "        gamma = 1 / iteration\n",
    "        beta = 1 / (2 * gamma)\n",
    "        return np.linalg.norm(Q) <= beta\n",
    "\n",
    "    for i in range(10_000, 100_000):\n",
    "        res = step(i)\n",
    "\n",
    "    return res\n",
    "\n",
    "\n",
    "# Measure execution time\n",
    "dot_time = timeit.timeit(dot_product_approach, number=10)\n",
    "norm_time = timeit.timeit(norm_approach, number=10)\n",
    "\n",
    "print(\"Time using np.dot for squared magnitude: {:.6f} seconds\".format(dot_time))\n",
    "print(\n",
    "    \"Time using np.linalg.norm for squared magnitude: {:.6f} seconds\".format(norm_time)\n",
    ")"
   ]
  },
  {
   "cell_type": "markdown",
   "metadata": {},
   "source": [
    "# Test if $\\Sigma$ is positive definite"
   ]
  },
  {
   "cell_type": "code",
   "execution_count": null,
   "metadata": {},
   "outputs": [],
   "source": [
    "import numpy as np\n",
    "\n",
    "d = 10\n",
    "covariance_matrix_article = np.zeros((d, d))\n",
    "\n",
    "for i in range(d):\n",
    "    for j in range(d):\n",
    "        covariance_matrix_article[i, j] = abs(i - j) ** 0.5\n",
    "\n",
    "eigenvalues_article, eigenvectors_article = np.linalg.eigh(covariance_matrix_article)\n",
    "\n",
    "print(\"Eigenvalues article:\", eigenvalues_article, \"\\n\")"
   ]
  },
  {
   "cell_type": "code",
   "execution_count": 1,
   "metadata": {},
   "outputs": [
    {
     "name": "stdout",
     "output_type": "stream",
     "text": [
      "random.randint took: 0.3966467760001251 seconds for 1000000 iterations\n",
      "np.random.randint took: 1.445265570000629 seconds for 1000000 iterations\n"
     ]
    }
   ],
   "source": [
    "import random\n",
    "import numpy as np\n",
    "import timeit\n",
    "\n",
    "# Define the number of iterations\n",
    "iterations = 1000000\n",
    "\n",
    "# Timing random.randint\n",
    "time_random = timeit.timeit('random.randint(1, 100)', setup='import random', number=iterations)\n",
    "\n",
    "# Timing numpy.random.randint\n",
    "time_np_random = timeit.timeit('np.random.randint(1, 101)', setup='import numpy as np', number=iterations)\n",
    "\n",
    "print(f\"random.randint took: {time_random} seconds for {iterations} iterations\")\n",
    "print(f\"np.random.randint took: {time_np_random} seconds for {iterations} iterations\")\n"
   ]
  },
  {
   "cell_type": "code",
   "execution_count": null,
   "metadata": {},
   "outputs": [],
   "source": []
  }
 ],
 "metadata": {
  "kernelspec": {
   "display_name": "env",
   "language": "python",
   "name": "python3"
  },
  "language_info": {
   "codemirror_mode": {
    "name": "ipython",
    "version": 3
   },
   "file_extension": ".py",
   "mimetype": "text/x-python",
   "name": "python",
   "nbconvert_exporter": "python",
   "pygments_lexer": "ipython3",
   "version": "3.12.0"
  }
 },
 "nbformat": 4,
 "nbformat_minor": 2
}
