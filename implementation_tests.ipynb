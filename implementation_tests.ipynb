{
 "cells": [
  {
   "cell_type": "code",
   "execution_count": null,
   "metadata": {},
   "outputs": [],
   "source": [
    "import numpy as np\n",
    "import timeit\n",
    "\n",
    "# Generate random vectors Q and Z of size n\n",
    "n = 1000  # Example vector size\n",
    "Q = np.random.rand(n)\n",
    "Z = np.random.rand(n)\n",
    "\n",
    "# Define the functions to measure\n",
    "def dot_product_approach():\n",
    "    def step(iteration):\n",
    "        gamma = 1 / iteration\n",
    "        beta = 1 / (2 * gamma)\n",
    "        return np.dot(Q, Q) <= beta**2\n",
    "\n",
    "    for i in range(10_000, 100_000):\n",
    "        res = step(i)\n",
    "\n",
    "    return res\n",
    "\n",
    "\n",
    "def norm_approach():\n",
    "    def step(iteration):\n",
    "        gamma = 1 / iteration\n",
    "        beta = 1 / (2 * gamma)\n",
    "        return np.linalg.norm(Q) <= beta\n",
    "\n",
    "    for i in range(10_000, 100_000):\n",
    "        res = step(i)\n",
    "\n",
    "    return res\n",
    "\n",
    "\n",
    "# Measure execution time\n",
    "dot_time = timeit.timeit(dot_product_approach, number=10)\n",
    "norm_time = timeit.timeit(norm_approach, number=10)\n",
    "\n",
    "print(\"Time using np.dot for squared magnitude: {:.6f} seconds\".format(dot_time))\n",
    "print(\n",
    "    \"Time using np.linalg.norm for squared magnitude: {:.6f} seconds\".format(norm_time)\n",
    ")"
   ]
  },
  {
   "cell_type": "code",
   "execution_count": null,
   "metadata": {},
   "outputs": [],
   "source": []
  }
 ],
 "metadata": {
  "kernelspec": {
   "display_name": "env",
   "language": "python",
   "name": "python3"
  },
  "language_info": {
   "codemirror_mode": {
    "name": "ipython",
    "version": 3
   },
   "file_extension": ".py",
   "mimetype": "text/x-python",
   "name": "python",
   "nbconvert_exporter": "python",
   "pygments_lexer": "ipython3",
   "version": "3.12.0"
  }
 },
 "nbformat": 4,
 "nbformat_minor": 2
}
