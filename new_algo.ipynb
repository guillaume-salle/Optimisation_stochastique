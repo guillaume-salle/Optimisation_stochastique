{
 "cells": [
  {
   "cell_type": "code",
   "execution_count": null,
   "metadata": {},
   "outputs": [],
   "source": [
    "import numpy as np\n",
    "import math\n",
    "from tqdm.auto import tqdm\n",
    "\n",
    "np.set_printoptions(suppress=True, formatter={'float': '{:0.3f}'.format})"
   ]
  },
  {
   "cell_type": "code",
   "execution_count": null,
   "metadata": {},
   "outputs": [],
   "source": [
    "gamma_n = 0.01\n",
    "beta_n = 1 / (2 * gamma_n)\n",
    "\n",
    "# Matrice A_{n-1}\n",
    "vp_min = 1\n",
    "vp_max = 10\n",
    "A_0 = np.diag([vp_min, vp_max])\n",
    "print(f'A:\\n {A_0}\\n')\n",
    "\n",
    "# Matrice hessienne de g(X_n, theta_{n-1}) = \n",
    "hess = np.array([[101, 10], [10, 1]]) / 11\n",
    "print(f'h:\\n {hess}\\n')\n",
    "\n",
    "# check if hess is definite positive\n",
    "eig = np.linalg.eigvals(hess)\n",
    "print(f'valeurs propres:\\n {eig}\\n')\n",
    "\n",
    "Z = np.array([0, 1]).reshape(2, 1)\n",
    "T = hess @ Z @ Z.T\n",
    "print(f'T:\\n {T}\\n')\n",
    "print(f'norm(T):\\n {np.linalg.norm(T, ord=2)}')\n"
   ]
  },
  {
   "cell_type": "code",
   "execution_count": null,
   "metadata": {},
   "outputs": [],
   "source": [
    "print(f'T @ A:\\n {T @ A_0}\\n')\n",
    "\n",
    "A_new = A_0 - 0.5 * (A_0 @ T.T + T @ A_0)\n",
    "print(f'A_new:\\n {A_new}\\n')\n",
    "\n"
   ]
  },
  {
   "cell_type": "code",
   "execution_count": null,
   "metadata": {},
   "outputs": [],
   "source": [
    "u = np.array([2,1]).reshape(2,1)\n",
    "\n",
    "res_sym = u.T @ A_new @ u \n",
    "print(f'res_sym: {res_sym}')\n",
    "\n"
   ]
  },
  {
   "cell_type": "code",
   "execution_count": null,
   "metadata": {},
   "outputs": [],
   "source": []
  },
  {
   "cell_type": "code",
   "execution_count": null,
   "metadata": {},
   "outputs": [],
   "source": [
    "A_0 = np.eye(2)\n",
    "\n",
    "hess = np.array([[10.1, 1],\n",
    "                [1, 0.1]])\n",
    "\n",
    "print(f'hess:\\n {hess}\\n')\n",
    "# check if hess is definite positive\n",
    "eig = np.linalg.eigvals(hess)\n",
    "print(f'valeurs propres:\\n {eig}\\n')\n",
    "\n",
    "def is_pos_def(x):\n",
    "    return np.all(np.linalg.eigvals(x) > 0)\n",
    "\n",
    "def update(A, hess, n):\n",
    "    gamma_n = n**-0.75\n",
    "    # Z = np.array([0, 1]).reshape(2, 1)\n",
    "    # T = hess @ Z @ Z.T\n",
    "    T = hess\n",
    "    # A_new = A - gamma_n * (A @ T.T + T @ A - 2 * np.eye(2))\n",
    "    A_new = (np.eye(2) - gamma_n * T) @ A @ (np.eye(2) - gamma_n * T.transpose()) + 2 * gamma_n * np.eye(2)\n",
    "    # A_new = (np.eye(2) - gamma_n * T) @ A @ (np.eye(2) - gamma_n * T.transpose()) + 2 * gamma_n * np.eye(2) - gamma_n**2 * T @ A @ T.transpose()\n",
    "    eig = np.linalg.eigvals(A_new)\n",
    "    if True:\n",
    "        print(f'\\ngamma_n: {gamma_n}')\n",
    "        print(f'T: {T}')\n",
    "        print(f'A: {A}')\n",
    "        print(f'A_new: {A_new}')\n",
    "        print(f'eig: {eig}')\n",
    "    if not np.all(eig > 0):\n",
    "        print('A_new is not positive definite')\n",
    "        raise ValueError\n",
    "    # print(np.max(eig))\n",
    "    return A_new, np.max(eig)/(n**0.75 * math.log(n+1))\n",
    "\n",
    "list_max_eig = []\n",
    "\n",
    "n_max = int(1e4)\n",
    "for n in tqdm(range(1,n_max+1)):\n",
    "    A_0, max_eig  = update(A_0, hess, n)\n",
    "    list_max_eig.append(max_eig)\n",
    "\n",
    "# plot max eigenvalues\n",
    "import matplotlib.pyplot as plt\n",
    "plt.plot(list_max_eig)\n",
    "print(list_max_eig[-1])\n",
    "plt.show()\n",
    "    "
   ]
  },
  {
   "cell_type": "code",
   "execution_count": null,
   "metadata": {},
   "outputs": [],
   "source": [
    "product = A_new @ hess\n",
    "product2 = hess @ A_new\n",
    "\n",
    "print(f'product:\\n {product}\\n')\n",
    "print(f'product2:\\n {product2}\\n')"
   ]
  },
  {
   "cell_type": "code",
   "execution_count": null,
   "metadata": {},
   "outputs": [],
   "source": [
    "\n",
    "\n",
    "T = np.array([[0, 1],\n",
    "              [0, 0]])\n",
    "\n",
    "print(f'T:\\n {T}\\n')\n",
    "\n",
    "def f(x):\n",
    "    print((np.linalg.norm(np.eye(2) - x*T, ord=2) - 1) / x)\n",
    "\n",
    "f(1)\n",
    "f(0.1)\n",
    "f(0.01)\n",
    "f(0.001)\n",
    "f(0.0001)\n",
    "f(0.00001)\n",
    "f(0.000001)\n",
    "\n"
   ]
  },
  {
   "cell_type": "code",
   "execution_count": null,
   "metadata": {},
   "outputs": [],
   "source": []
  }
 ],
 "metadata": {
  "kernelspec": {
   "display_name": "env",
   "language": "python",
   "name": "python3"
  },
  "language_info": {
   "codemirror_mode": {
    "name": "ipython",
    "version": 3
   },
   "file_extension": ".py",
   "mimetype": "text/x-python",
   "name": "python",
   "nbconvert_exporter": "python",
   "pygments_lexer": "ipython3",
   "version": "3.12.0"
  }
 },
 "nbformat": 4,
 "nbformat_minor": 2
}
