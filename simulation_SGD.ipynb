{
 "cells": [
  {
   "cell_type": "code",
   "execution_count": null,
   "metadata": {},
   "outputs": [],
   "source": [
    "import numpy as np\n",
    "from functools import partial\n",
    "\n",
    "from simulation import Simulation\n",
    "from objective_functions import LogisticRegression, LinearRegression\n",
    "from optimization_algorithms import SGD, SNA, USNA\n",
    "from datasets import generate_logistic_regression, generate_linear_regression"
   ]
  },
  {
   "cell_type": "code",
   "execution_count": null,
   "metadata": {},
   "outputs": [],
   "source": [
    "# Usage example\n",
    "N = 50\n",
    "n = int(1e4)\n",
    "objective_function = LogisticRegression(bias=True)\n",
    "true_theta = np.array([0, 3, -9, 4, -9, 15, 0, -7, 1, 0])\n",
    "# true_theta = np.array([-2., -1., 0., 1., 2.])\n",
    "optimizer_list = [SGD(0.45), SGD(0.5), SGD(0.66), SGD(0.75), SGD(1.0), SGD(1.05)]\n",
    "e = 1\n",
    "\n",
    "simulation = Simulation(\n",
    "    objective_function,\n",
    "    optimizer_list,\n",
    "    e,\n",
    "    true_theta=true_theta,\n",
    "    generate_dataset=partial(generate_logistic_regression, bias=True),\n",
    ")"
   ]
  },
  {
   "cell_type": "code",
   "execution_count": null,
   "metadata": {},
   "outputs": [],
   "source": [
    "# One run\n",
    "simulation.dataset = simulation.generate_dataset(n, true_theta)\n",
    "simulation.generate_initial_theta()\n",
    "_, _ = simulation.run(plot=True)"
   ]
  },
  {
   "cell_type": "code",
   "execution_count": null,
   "metadata": {},
   "outputs": [],
   "source": [
    "simulation.run_multiple_datasets(num_runs=N, n=n)"
   ]
  },
  {
   "cell_type": "code",
   "execution_count": null,
   "metadata": {},
   "outputs": [],
   "source": [
    "objective_function = LinearRegression(bias=True)\n",
    "simulation = Simulation(\n",
    "    objective_function,\n",
    "    optimizer_list,\n",
    "    e,\n",
    "    true_theta=true_theta,\n",
    "    generate_dataset=partial(generate_linear_regression, bias=True),\n",
    ")"
   ]
  },
  {
   "cell_type": "code",
   "execution_count": null,
   "metadata": {},
   "outputs": [],
   "source": [
    "# One run\n",
    "simulation.dataset = simulation.generate_dataset(n, true_theta)\n",
    "simulation.generate_initial_theta()\n",
    "_, _ = simulation.run(plot=True)"
   ]
  },
  {
   "cell_type": "code",
   "execution_count": null,
   "metadata": {},
   "outputs": [],
   "source": [
    "simulation.run_multiple_datasets(num_runs=N, n=n)"
   ]
  },
  {
   "cell_type": "code",
   "execution_count": null,
   "metadata": {},
   "outputs": [],
   "source": []
  }
 ],
 "metadata": {
  "kernelspec": {
   "display_name": "env",
   "language": "python",
   "name": "python3"
  },
  "language_info": {
   "codemirror_mode": {
    "name": "ipython",
    "version": 3
   },
   "file_extension": ".py",
   "mimetype": "text/x-python",
   "name": "python",
   "nbconvert_exporter": "python",
   "pygments_lexer": "ipython3",
   "version": "3.12.0"
  }
 },
 "nbformat": 4,
 "nbformat_minor": 2
}
