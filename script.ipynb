{
 "cells": [
  {
   "cell_type": "code",
   "execution_count": 1,
   "metadata": {},
   "outputs": [
    {
     "name": "stdout",
     "output_type": "stream",
     "text": [
      "Updated simulation_ASGD.ipynb\n",
      "Updated simulation_SGD.ipynb\n",
      "Updated simulation_SNA.ipynb\n",
      "Updated simulation_SNARiccati.ipynb\n",
      "Updated simulation_USNA_canonic_deterministic.ipynb\n",
      "Updated simulation_USNA_canonic.ipynb\n",
      "Updated simulation_USNA.ipynb\n",
      "Updated simulation_UWASNA_canonic_deterministic.ipynb\n",
      "Updated simulation_UWASNA_canonic.ipynb\n",
      "Updated simulation_UWASNA.ipynb\n",
      "Updated simulation_WASGD.ipynb\n",
      "Updated simulation_WASNA.ipynb\n",
      "Updated simulation_WASNARiccati.ipynb\n",
      "Updated comparison_algorithms.ipynb\n",
      "Updated some_tests.ipynb\n"
     ]
    }
   ],
   "source": [
    "import nbformat\n",
    "import os\n",
    "\n",
    "def add_imports_to_notebook(notebook_path):\n",
    "    with open(notebook_path, 'r', encoding='utf-8') as f:\n",
    "        nb = nbformat.read(f, as_version=4)\n",
    "\n",
    "    # Create the import cell\n",
    "    import_cell = nbformat.v4.new_code_cell(\"import sys\\nsys.path.append('..')\")\n",
    "\n",
    "    # Check if the first cell already contains the import, if not, insert it\n",
    "    if nb.cells and 'import sys' not in nb.cells[0].source:\n",
    "        nb.cells.insert(0, import_cell)\n",
    "    \n",
    "    # Write the modified notebook back to the file\n",
    "    with open(notebook_path, 'w', encoding='utf-8') as f:\n",
    "        nbformat.write(nb, f)\n",
    "\n",
    "def add_imports_to_all_notebooks(directory):\n",
    "    for filename in os.listdir(directory):\n",
    "        if filename.endswith(\".ipynb\"):\n",
    "            notebook_path = os.path.join(directory, filename)\n",
    "            add_imports_to_notebook(notebook_path)\n",
    "            print(f\"Updated {filename}\")\n",
    "\n",
    "# Specify the directory containing the notebooks\n",
    "notebooks_directory = 'Notebooks_online'\n",
    "add_imports_to_all_notebooks(notebooks_directory)\n"
   ]
  },
  {
   "cell_type": "code",
   "execution_count": null,
   "metadata": {},
   "outputs": [],
   "source": []
  }
 ],
 "metadata": {
  "kernelspec": {
   "display_name": "env",
   "language": "python",
   "name": "python3"
  },
  "language_info": {
   "codemirror_mode": {
    "name": "ipython",
    "version": 3
   },
   "file_extension": ".py",
   "mimetype": "text/x-python",
   "name": "python",
   "nbconvert_exporter": "python",
   "pygments_lexer": "ipython3",
   "version": "3.12.0"
  }
 },
 "nbformat": 4,
 "nbformat_minor": 2
}
